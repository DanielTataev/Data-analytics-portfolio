{
 "cells": [
  {
   "cell_type": "code",
   "execution_count": 0,
   "metadata": {
    "application/vnd.databricks.v1+cell": {
     "cellMetadata": {
      "byteLimit": 2048000,
      "rowLimit": 10000
     },
     "inputWidgets": {},
     "nuid": "09906b19-1895-497b-9e52-61e91571d7d2",
     "showTitle": false,
     "title": ""
    }
   },
   "outputs": [
    {
     "output_type": "stream",
     "name": "stdout",
     "output_type": "stream",
     "text": [
      "\u001B[43mNote: you may need to restart the kernel using dbutils.library.restartPython() to use updated packages.\u001B[0m\nRequirement already satisfied: openpyxl in /local_disk0/.ephemeral_nfs/cluster_libraries/python/lib/python3.10/site-packages (3.1.4)\nRequirement already satisfied: et-xmlfile in /local_disk0/.ephemeral_nfs/cluster_libraries/python/lib/python3.10/site-packages (from openpyxl) (1.1.0)\n\u001B[43mNote: you may need to restart the kernel using dbutils.library.restartPython() to use updated packages.\u001B[0m\n"
     ]
    }
   ],
   "source": [
    "# needed to import excel files\n",
    "%pip install -i https://pypi.org/simple openpyxl"
   ]
  },
  {
   "cell_type": "code",
   "execution_count": 0,
   "metadata": {
    "application/vnd.databricks.v1+cell": {
     "cellMetadata": {
      "byteLimit": 2048000,
      "rowLimit": 10000
     },
     "inputWidgets": {},
     "nuid": "95db778a-d983-41f3-a0df-abc12299ee10",
     "showTitle": false,
     "title": ""
    }
   },
   "outputs": [],
   "source": [
    "from datetime import datetime, timedelta \n",
    "from getpass import getuser as get_user \n",
    "from getpass import getpass as get_password \n",
    "from os import environ as enviroment_vars \n",
    "from os import setpgrp as set_process_group \n",
    "from random import random \n",
    "from shlex import split as cmd_split \n",
    "from string import punctuation \n",
    "from subprocess import Popen, PIPE, STDOUT "
   ]
  },
  {
   "cell_type": "code",
   "execution_count": 0,
   "metadata": {
    "application/vnd.databricks.v1+cell": {
     "cellMetadata": {
      "byteLimit": 2048000,
      "rowLimit": 10000
     },
     "inputWidgets": {},
     "nuid": "8d30c7e6-bf60-40de-9ccf-c61fcce5646c",
     "showTitle": false,
     "title": ""
    }
   },
   "outputs": [
    {
     "output_type": "execute_result",
     "data": {
      "text/html": [
       "\n",
       "            <div>\n",
       "                <p><b>SparkSession - hive</b></p>\n",
       "                \n",
       "        <div>\n",
       "            <p><b>SparkContext</b></p>\n",
       "\n",
       "            <p><a href=\"http://10.245.8.142:40001\">Spark UI</a></p>\n",
       "\n",
       "            <dl>\n",
       "              <dt>Version</dt>\n",
       "                <dd><code>v3.4.1</code></dd>\n",
       "              <dt>Master</dt>\n",
       "                <dd><code>spark://10.245.8.142:7077</code></dd>\n",
       "              <dt>AppName</dt>\n",
       "                <dd><code>Databricks Shell</code></dd>\n",
       "            </dl>\n",
       "        </div>\n",
       "        \n",
       "            </div>\n",
       "        "
      ],
      "text/plain": [
       "<pyspark.sql.session.SparkSession at 0x7ffa14476e90>"
      ]
     },
     "execution_count": 20,
     "metadata": {},
     "output_type": "execute_result"
    }
   ],
   "source": [
    "from pyspark import SparkContext, HiveContext, SparkConf  \n",
    "from pyspark.sql import SparkSession \n",
    "\n",
    "ss = SparkSession(sc) \n",
    "ss "
   ]
  },
  {
   "cell_type": "code",
   "execution_count": 0,
   "metadata": {
    "application/vnd.databricks.v1+cell": {
     "cellMetadata": {
      "byteLimit": 2048000,
      "rowLimit": 10000
     },
     "inputWidgets": {},
     "nuid": "bd1f873a-146b-447a-b459-77627c066481",
     "showTitle": false,
     "title": ""
    }
   },
   "outputs": [],
   "source": [
    "spark.conf.set(\"spark.databricks.io.cache.enabled\", \"true\")"
   ]
  },
  {
   "cell_type": "code",
   "execution_count": 0,
   "metadata": {
    "application/vnd.databricks.v1+cell": {
     "cellMetadata": {
      "byteLimit": 2048000,
      "rowLimit": 10000
     },
     "inputWidgets": {},
     "nuid": "f7b75241-0470-46f0-a549-29debb2fb6c7",
     "showTitle": false,
     "title": ""
    }
   },
   "outputs": [],
   "source": [
    "#Calculate initiation turnaround times First Risk to First Response for current YTD\n",
    "#Create datetime filters for the monthly calculation; NOTE: CHANGE MONTH END DATE\n",
    "from datetime import datetime\n",
    "from dateutil.relativedelta import relativedelta\n",
    "from pyspark.sql.functions import current_date\n",
    "today = datetime.today()\n",
    "\n",
    "#a = {'CURRENT_YTD_BEG':datetime(today.year, 1, 1), \n",
    " #    'CURRENT_YTD_END':datetime(today.year, today.month - 1, 31),\n",
    "  #   'PRIOR_YTD_BEG':datetime(today.year - 1, 1, 1),\n",
    "   #  'PRIOR_YTD_END':datetime(today.year - 1, today.month - 1, 31)}\n",
    "\n",
    "#ONLY USE BELOW FOR JAN EACH YEAR   \n",
    "#a = {'CURRENT_YTD_BEG':datetime(today.year-1, 1, 1), \n",
    " #    'CURRENT_YTD_END':datetime(today.year-1, 12, 31),\n",
    "  #   'PRIOR_YTD_END':datetime(today.year-2, 12, 31),\n",
    "   #  'PRIOR_YTD_BEG':datetime(today.year-2, 1, 1)}\n",
    "    \n",
    "sql = \"\"\"\n",
    "select distinct\n",
    "t1.cmhc_loan_account_nbr,\n",
    "t1.rec_month,\n",
    "tat_type.initiation_turnaround_tcd,\n",
    "case\n",
    "when tat.turnaround_duration_cnt is null then 'missing'\n",
    "when tat.turnaround_duration_cnt<=60 then '1 min or less'\n",
    "when tat.turnaround_duration_cnt>60 and tat.turnaround_duration_cnt<=3600 \n",
    "then '1 min to 60 min'\n",
    "when tat.turnaround_duration_cnt>3600 and tat.turnaround_duration_cnt<=7200 \n",
    "then '1 to 2 hour'\n",
    "when tat.turnaround_duration_cnt>7200 and tat.turnaround_duration_cnt<=14400 \n",
    "then '2 to 4 hour'\n",
    "when tat.turnaround_duration_cnt>14400 then '4 hours and more'\n",
    "end as TAT\n",
    "\n",
    "FROM sb_rmo_ho_reporting.test_lender_dashboard2 t1\n",
    "\n",
    "inner JOIN cmwdw_insurance.tbdw_tgt_initiation_turnaround_summary_fact tat \n",
    "on t1.cmhc_loan_account_nbr = tat.cmhc_loan_account_nbr\n",
    "\n",
    "inner join cmwdw_insurance.tbdw_tgt_initiation_turnaround_type_dim tat_type \n",
    "on tat.initiation_turnaround_type_surrkey = tat_type.initiation_turnaround_type_surrkey\n",
    "\n",
    "inner join cmwdw_insurance.tbdw_tgt_risk_dim risk \n",
    "on tat.end_risk_surrkey = risk.risk_surrkey\n",
    "\n",
    "WHERE tat.loan_turnaround_error_cnt = 0\n",
    "and tat_type.initiation_turnaround_tcd = '04'\n",
    "and risk.risk_result_decision_cde not in ('01', '**')\n",
    "and t1.loan_purpose_type_desc_en = 'PURCHASE'\n",
    "\"\"\"\n",
    "\n",
    "dfTAT_r =ss.sql(sql)\n",
    "#count = dfTAT_r.count()    \n",
    "#print(\"Table row count: \", count)\n",
    "#print(\"Purchase TAT First Risk to First Response dataset creation completed at: \", str(datetime.now()))"
   ]
  },
  {
   "cell_type": "code",
   "execution_count": 0,
   "metadata": {
    "application/vnd.databricks.v1+cell": {
     "cellMetadata": {
      "byteLimit": 2048000,
      "rowLimit": 10000
     },
     "inputWidgets": {},
     "nuid": "0e2ced67-f967-4400-bf46-d9789e818441",
     "showTitle": false,
     "title": ""
    }
   },
   "outputs": [],
   "source": [
    "#count = dfTAT_r.count()    \n",
    "#print(\"Table row count: \", count)"
   ]
  },
  {
   "cell_type": "code",
   "execution_count": 0,
   "metadata": {
    "application/vnd.databricks.v1+cell": {
     "cellMetadata": {
      "byteLimit": 2048000,
      "rowLimit": 10000
     },
     "inputWidgets": {},
     "nuid": "79c565c1-6bf6-47ce-aec9-8129d7866a98",
     "showTitle": false,
     "title": ""
    }
   },
   "outputs": [
    {
     "output_type": "stream",
     "name": "stdout",
     "output_type": "stream",
     "text": [
      "Table row count:  405672\nPurchase TAT First Risk to First Decision dataset creation completed at:  2024-09-06 15:37:12.352593\n"
     ]
    }
   ],
   "source": [
    "#Calculate initiation turnaround times First Risk to First Decision for current YTD\n",
    "sql = \"\"\"\n",
    "SELECT distinct\n",
    "t1.cmhc_loan_account_nbr,\n",
    "t1.rec_month,\n",
    "tat_type.initiation_turnaround_tcd,\n",
    "case\n",
    "when tat.turnaround_duration_cnt  is null then 'missing'\n",
    "when tat.turnaround_duration_cnt<=60 then '1 min or less'\n",
    "when tat.turnaround_duration_cnt>60 and tat.turnaround_duration_cnt<=3600 \n",
    "then '1 min to 60 min'\n",
    "when tat.turnaround_duration_cnt>3600 and tat.turnaround_duration_cnt<=7200 \n",
    "then '1 to 2 hour'\n",
    "when tat.turnaround_duration_cnt>7200 and tat.turnaround_duration_cnt<=14400 \n",
    "then '2 to 4 hour'\n",
    "when tat.turnaround_duration_cnt>14400 then '4 hours and more'\n",
    "end as TAT\n",
    "\n",
    "FROM sb_rmo_ho_reporting.test_lender_dashboard2 t1\n",
    "inner JOIN cmwdw_insurance.tbdw_tgt_initiation_turnaround_summary_fact tat \n",
    "on t1.cmhc_loan_account_nbr = tat.cmhc_loan_account_nbr\n",
    "inner join cmwdw_insurance.tbdw_tgt_initiation_turnaround_type_dim tat_type \n",
    "on tat.initiation_turnaround_type_surrkey = tat_type.initiation_turnaround_type_surrkey\n",
    "inner join cmwdw_insurance.tbdw_tgt_risk_dim risk \n",
    "on tat.end_risk_surrkey = risk.risk_surrkey\n",
    "\n",
    "WHERE\n",
    "tat.loan_turnaround_error_cnt = 0\n",
    "and tat_type.initiation_turnaround_tcd in ('05')\n",
    "\"\"\"\n",
    "\n",
    "dfTAT_d =ss.sql(sql)\n",
    "count = dfTAT_d.count()    \n",
    "print(\"Table row count: \", count)\n",
    "print(\"Purchase TAT First Risk to First Decision dataset creation completed at: \", str(datetime.now()))"
   ]
  },
  {
   "cell_type": "code",
   "execution_count": 0,
   "metadata": {
    "application/vnd.databricks.v1+cell": {
     "cellMetadata": {
      "byteLimit": 2048000,
      "rowLimit": 10000
     },
     "inputWidgets": {},
     "nuid": "c2cd5bda-91b0-4eed-a244-91252fa7beca",
     "showTitle": false,
     "title": ""
    }
   },
   "outputs": [
    {
     "output_type": "stream",
     "name": "stdout",
     "output_type": "stream",
     "text": [
      "Table row count:  414779\nPurchase TAT First Risk to First Response with R3 dataset creation completed at:  2024-09-06 15:37:15.006071\n"
     ]
    }
   ],
   "source": [
    "#Calculate initiation turnaround times First Risk to First Decision with R3 for current YTD\n",
    "sql = \"\"\"\n",
    "SELECT distinct\n",
    "t1.cmhc_loan_account_nbr,\n",
    "t1.rec_month,\n",
    "tat_type.initiation_turnaround_tcd,\n",
    "case\n",
    "when tat.turnaround_duration_cnt is null then 'missing'\n",
    "when tat.turnaround_duration_cnt<=60 then '1 min or less'\n",
    "when tat.turnaround_duration_cnt>60 and tat.turnaround_duration_cnt<=3600 \n",
    "then '1 min to 60 min'\n",
    "when tat.turnaround_duration_cnt>3600 and tat.turnaround_duration_cnt<=7200 \n",
    "then '1 to 2 hour'\n",
    "when tat.turnaround_duration_cnt>7200 and tat.turnaround_duration_cnt<=14400 \n",
    "then '2 to 4 hour'\n",
    "when tat.turnaround_duration_cnt>14400 then '4 hours and more'\n",
    "end as TAT\n",
    "\n",
    "FROM sb_rmo_ho_reporting.test_lender_dashboard2 t1\n",
    "inner JOIN cmwdw_insurance.tbdw_tgt_initiation_turnaround_summary_fact tat \n",
    "on t1.cmhc_loan_account_nbr = tat.cmhc_loan_account_nbr\n",
    "inner join cmwdw_insurance.tbdw_tgt_initiation_turnaround_type_dim tat_type \n",
    "on tat.initiation_turnaround_type_surrkey = tat_type.initiation_turnaround_type_surrkey\n",
    "inner join cmwdw_insurance.tbdw_tgt_risk_dim risk \n",
    "on tat.end_risk_surrkey = risk.risk_surrkey\n",
    "WHERE\n",
    "tat.loan_turnaround_error_cnt = 0\n",
    "and tat_type.initiation_turnaround_tcd in ('08')\n",
    "\n",
    "\"\"\"\n",
    "\n",
    "dfTAT_R3 =ss.sql(sql)\n",
    "count = dfTAT_R3.count()    \n",
    "#dfTAT_R3.write.mode(\"overwrite\").parquet(\"hdfs:///user/mpei/test_TAT_decisionR3\")\n",
    "print(\"Table row count: \", count)\n",
    "print(\"Purchase TAT First Risk to First Response with R3 dataset creation completed at: \", str(datetime.now()))"
   ]
  },
  {
   "cell_type": "code",
   "execution_count": 0,
   "metadata": {
    "application/vnd.databricks.v1+cell": {
     "cellMetadata": {
      "byteLimit": 2048000,
      "rowLimit": 10000
     },
     "inputWidgets": {},
     "nuid": "66dcac3e-d681-4f43-ae1a-3245dcaf55ee",
     "showTitle": false,
     "title": ""
    }
   },
   "outputs": [
    {
     "output_type": "stream",
     "name": "stderr",
     "output_type": "stream",
     "text": [
      "/databricks/spark/python/pyspark/sql/dataframe.py:334: FutureWarning: Deprecated in 2.0, use createOrReplaceTempView instead.\n  warnings.warn(\"Deprecated in 2.0, use createOrReplaceTempView instead.\", FutureWarning)\n"
     ]
    },
    {
     "output_type": "stream",
     "name": "stdout",
     "output_type": "stream",
     "text": [
      "All TAT row count:  421347\nAll TAT dataset creation completed at:  2024-09-06 15:37:22.429516\n"
     ]
    }
   ],
   "source": [
    "#Join the 3 TAT dataframes together\n",
    "dfTAT_R3.registerTempTable(\"dfTAT_R3\")\n",
    "dfTAT_r.registerTempTable(\"dfTAT_r\")\n",
    "dfTAT_d.registerTempTable(\"dfTAT_d\")\n",
    "\n",
    "sqltat = \"\"\"\n",
    "select DISTINCT\n",
    "CASE WHEN DEC.rec_month IS NULL THEN RES.rec_month ELSE DEC.rec_month \n",
    "END AS MONTH,\n",
    "CASE WHEN DEC.cmhc_loan_account_nbr IS NULL THEN RES.cmhc_loan_account_nbr ELSE DEC.cmhc_loan_account_nbr \n",
    "END AS cmhc_loan_account_nbr,\n",
    "CASE WHEN RES.initiation_turnaround_tcd= '04' AND RES.TAT in ('1 min or less','1 min to 60 min','1 to 2 hour') \n",
    "then 1 else 0\n",
    "END AS RESPONSE, \n",
    "CASE WHEN RES.initiation_turnaround_tcd= '04' THEN 1 ELSE 0\n",
    "END AS RESPONSE_TOTAL,\n",
    "CASE WHEN DEC1.initiation_turnaround_tcd= '05' AND DEC1.TAT in ('1 min or less','1 min to 60 min','1 to 2 hour','2 to 4 hour') \n",
    "then 1 ELSE 0\n",
    "END AS DECISION,\n",
    "CASE WHEN DEC1.initiation_turnaround_tcd= '05' THEN 1 ELSE 0\n",
    "END AS DECISION_TOTAL,\n",
    "CASE WHEN DEC.initiation_turnaround_tcd = '08' AND DEC.TAT in ('1 min or less','1 min to 60 min','1 to 2 hour','2 to 4 hour') \n",
    "then 1 ELSE 0\n",
    "END AS DECISION_R3,\n",
    "CASE WHEN DEC.initiation_turnaround_tcd = '08' then 1 ELSE 0\n",
    "END AS DECISION_R3_TOTAL\n",
    "\n",
    "from dfTAT_R3 DEC\n",
    "left JOIN dfTAT_d DEC1 \n",
    "ON DEC1.cmhc_loan_account_nbr=DEC.cmhc_loan_account_nbr\n",
    "FULL JOIN dfTAT_r res \n",
    "ON RES.cmhc_loan_account_nbr=DEC.cmhc_loan_account_nbr\n",
    "\"\"\"\n",
    "\n",
    "dfTAT = ss.sql(sqltat)\n",
    "print(\"All TAT row count: \", dfTAT.count())\n",
    "print(\"All TAT dataset creation completed at: \", str(datetime.now()))"
   ]
  },
  {
   "cell_type": "code",
   "execution_count": 0,
   "metadata": {
    "application/vnd.databricks.v1+cell": {
     "cellMetadata": {
      "byteLimit": 2048000,
      "rowLimit": 10000
     },
     "inputWidgets": {},
     "nuid": "547d931f-5f7d-430d-b14f-5e9ccc255cd6",
     "showTitle": false,
     "title": ""
    }
   },
   "outputs": [
    {
     "output_type": "stream",
     "name": "stderr",
     "output_type": "stream",
     "text": [
      "/databricks/spark/python/pyspark/sql/dataframe.py:334: FutureWarning: Deprecated in 2.0, use createOrReplaceTempView instead.\n  warnings.warn(\"Deprecated in 2.0, use createOrReplaceTempView instead.\", FutureWarning)\n/databricks/spark/python/pyspark/sql/dataframe.py:334: FutureWarning: Deprecated in 2.0, use createOrReplaceTempView instead.\n  warnings.warn(\"Deprecated in 2.0, use createOrReplaceTempView instead.\", FutureWarning)\n"
     ]
    },
    {
     "output_type": "stream",
     "name": "stdout",
     "output_type": "stream",
     "text": [
      "Table creation for Main Data with TAT and Desjardins Rep completed at:  2024-09-06 15:37:26.629036\n"
     ]
    }
   ],
   "source": [
    "#Add Desjardins Rep File Names\n",
    "#Join with Main Base Data, First Transmission Referred and Ever Referred Information, and add Best Credit Score from Data Lake\n",
    "#Calculate Branch Region and Market using data in Data Lake \n",
    "#Calculate auto-approvals, ever-referred, referred at first risking\n",
    "#Add Risk Decision at first risking and Scorecard variables\n",
    "#Dec 2021: Join to DL to filter for homeowner loan only\n",
    "import pandas as pd \n",
    "\n",
    "Rep_Mobile = pd.read_excel('Rep Mobile.xlsx')\n",
    "Plan_Transit = pd.read_excel('Plan Transit (2020).xlsx')\n",
    "\n",
    "Rep_Mobile = Rep_Mobile.astype(str)\n",
    "Plan_Transit = Plan_Transit.astype(str)\n",
    "\n",
    "df1 = ss.createDataFrame(Rep_Mobile)\n",
    "df1.registerTempTable(\"Rep_Mobile\")\n",
    "df2 = ss.createDataFrame(Plan_Transit)\n",
    "df2.registerTempTable(\"Plan_Transit\")\n",
    "dfTAT.registerTempTable(\"dfTAT\")\n",
    "\n",
    "sqlall = \"\"\"\n",
    "select distinct \n",
    "t1.*,\n",
    "las.best_credit_score_last_risking_cnt as best_credit_score,\n",
    "\n",
    "TAT.RESPONSE,\n",
    "TAT.RESPONSE_TOTAL,\n",
    "TAT.DECISION,\n",
    "TAT.DECISION_TOTAL,\n",
    "TAT.DECISION_R3,\n",
    "TAT.DECISION_R3_TOTAL,\n",
    "TAT.MONTH,\n",
    "CASE WHEN T1.parent_level1_lender_cde = \"49020\" THEN mobile.DDH_NIVEAU1 END AS DR,\n",
    "CASE WHEN T1.parent_level1_lender_cde = \"49020\" THEN mobile.DDH_NIVEAU2 END AS CDA,\n",
    "\n",
    "CASE WHEN T1.parent_level1_lender_cde = \"49020\" THEN tran.PVP END AS PVP,\n",
    "CASE WHEN T1.parent_level1_lender_cde = \"49020\" THEN tran.VPR END AS VPR,\n",
    "\n",
    "'' AS REPORT_DATE,\n",
    "\n",
    "case when rdt.risk_result_decision_desc_en not in (\"AUTO APPROVED\") then \"MODEL OR AUTO REFERRED\" \n",
    "else rdt.risk_result_decision_desc_en \n",
    "end as CLEAN_RISK_DECISION,\n",
    "\n",
    "rdt.risk_property_rate_desc_en as PRAMSYS_first,\n",
    "lad.application_scorecard_first_risking_rating_desc_en as appl_scorecard_first_risking_rating,\n",
    "lts.application_scorecard_total_pts as appl_scorecard_total_pts_first,\n",
    "lts.borrower_model_rating_pts as borrower_model_rating_pts_first,\n",
    "lts.application_scorecard_borrower_total_pts as borr_sccard_total_pts_first,\n",
    "\n",
    "case\n",
    "when trim(rdt.risk_result_decision_cde) in ('01') then 'Auto-Approved'\n",
    "when trim(rdt.risk_result_decision_cde) in ('06') then 'RU-Approved'\n",
    "when trim(rdt.risk_result_decision_cde) in ('07') then 'RU-Declined'\n",
    "when trim(rdt.risk_result_decision_cde) in ('08') then 'RU-Reffered'\n",
    "when trim(rdt.risk_result_decision_cde) in ('02') then 'Auto-Declined'\n",
    "when trim(rdt.risk_result_decision_cde) in ('12','13','14','15','16','17','18','19','20','21','22','23','24','25') \n",
    "then 'Auto Decline Incremental'\n",
    "when trim(rdt.risk_result_decision_cde) in ('03')  then 'Model Referred'\n",
    "when trim(rdt.risk_result_decision_cde) in ('09')  then 'RU-Referred by models only'\n",
    "when trim(rdt.risk_result_decision_cde) in ('04')  then 'Policy Referred'\n",
    "when trim(rdt.risk_result_decision_cde) in ('10')  then 'RU - Policy Referred'\n",
    "when trim(rdt.risk_result_decision_cde) in ('05')  then 'Model and Policy Referred'\n",
    "when trim(rdt.risk_result_decision_cde) in ('11')  then 'RU-Model and Policy Referred'\n",
    "else 'Other'\n",
    "end as Risk_decision_first,\n",
    "rdt.risk_result_decision_cde,\n",
    "\n",
    "lad.underwriting_ever_referred_cde,\n",
    "CASE \n",
    "    WHEN trim(t2.civic_address_province_nm_en) IN \n",
    "    ('NEWFOUNDLAND AND LABRADOR', 'NEW BRUNSWICK', 'PRINCE EDWARD ISLAND', 'NOVA SCOTIA') THEN 'ATLANTIC' \n",
    "    WHEN trim(t2.civic_address_province_nm_en) IN \n",
    "    ('ALBERTA', 'MANITOBA', 'SASKATCHEWAN', 'YUKON', 'NUNAVUT', 'NORTHWEST TERRITORIES')\n",
    "    THEN 'PRAIRIES'\n",
    "    ELSE t2.civic_address_province_nm_en \n",
    "    END AS BRANCH_REGION,\n",
    "\n",
    "CASE \n",
    "WHEN t2.civic_address_province_nm_en IN ('ALBERTA', 'MANITOBA', 'SASKATCHEWAN', 'YUKON', 'NUNAVUT', 'NORTHWEST TERRITORIES')\n",
    "and concat(trim(t1.current_stats_canada_division_cde), trim(t1.current_stats_canada_subdivision_cde)) in ('06016') \n",
    "THEN 'Calgary' \n",
    "WHEN t2.civic_address_province_nm_en IN ('ALBERTA', 'MANITOBA', 'SASKATCHEWAN', 'YUKON', 'NUNAVUT', 'NORTHWEST TERRITORIES')\n",
    "and concat(trim(t1.current_stats_canada_division_cde), trim(t1.current_stats_canada_subdivision_cde)) in ('11061') \n",
    "THEN 'Edmonton' \n",
    "WHEN t2.civic_address_province_nm_en IN ('BRITISH COLUMBIA') \n",
    "and concat(trim(t1.current_stats_canada_division_cde), trim(t1.current_stats_canada_subdivision_cde)) \n",
    "IN ( '15022', '15020', '15046', '15051', '15055' ) \n",
    "THEN 'Vancouver' \n",
    "WHEN t2.civic_address_province_nm_en IN ('ONTARIO') \n",
    "and concat(trim(t1.current_stats_canada_division_cde), trim(t1.current_stats_canada_subdivision_cde)) \n",
    "IN ('18005', '19046', '21010', '18039', '24002', '21024', '18017', '19054', '20019', '19070', '24015', '19049', '19036', '24009', '21005', '19048', '20008', '24001', '18013', '19038', '18001', '20001', '18020', '20004', '20005', '18029', '19028', '18009', '19044', '20014' ) \n",
    "THEN 'GTA' \n",
    "WHEN t2.civic_address_province_nm_en IN ('QUEBEC')\n",
    "and concat(trim(t1.current_stats_canada_division_cde), trim(t1.current_stats_canada_subdivision_cde)) IN ( '66023', '66007', '66047' ) \n",
    "THEN 'Montreal' \n",
    "ELSE 'Other' \n",
    "END AS Mkt,\n",
    "\n",
    "concat(trim(t1.transit),' - ', trim(t2.civic_address_street_nbr), ' - ', trim(t2.civic_address_street_nm), ', ', trim(t2.civic_address_municipality_nm)) as TRANSIT_ID\n",
    "\n",
    "from sb_rmo_ho_reporting.test_lender_dashboard2 t1\n",
    "\n",
    "left join dfTAT TAT\n",
    "on t1.cmhc_loan_account_nbr = TAT.cmhc_loan_account_nbr\n",
    "\n",
    "left join Rep_Mobile mobile\n",
    "on mobile.NOM_DDH =t1.Original_Rep\n",
    "\n",
    "left join Plan_Transit tran\n",
    "on tran.Transit=t1.Transit_DESJ\n",
    "\n",
    "left join cmwdw_insurance.vwdw_loan_account_dim lad\n",
    "on t1.cmhc_loan_account_nbr = lad.cmhc_loan_account_nbr\n",
    "\n",
    "left join cmwdw_insurance.vwdw_loan_account_sum las\n",
    "on las.loan_account_surrkey = lad.loan_account_surrkey\n",
    "\n",
    "left join cmwdw_insurance.vwdw_loan_transmission_dim ltd \n",
    "on (t1.cmhc_loan_account_nbr = ltd.cmhc_loan_account_nbr and ltd.risked_first_ind = 1) \n",
    "\n",
    "left join cmwdw_insurance.tbdw_tgt_risk_dim rdt \n",
    "on (ltd.cmhc_loan_account_nbr = rdt.cmhc_loan_account_nbr and ltd.application_identifier_ts = rdt.application_identifier_ts)\n",
    "\n",
    "left join cmwdw_insurance.vwdw_loan_transmission_sum lts\n",
    "on lts.loan_transmission_surrkey = ltd.loan_transmission_surrkey\n",
    "\n",
    "left join cmwdw_insurance.vwdw_lender_financial_trnst_dim t2\n",
    "on t2.lender_financial_transit_surrkey = las.initiation_lender_financial_transit_surrkey\n",
    "\n",
    "left join cmwdw_insurance.vwdw_costable_unit_dim cu\n",
    "on cu.costable_unit_surrkey = las.costable_unit_surrkey\n",
    "\n",
    "where cu.insurance_product_group_cde = '100'\n",
    " \"\"\"\n",
    "\n",
    "#dfall = pd.read_sql(sqlall.format(a.get('CURRENT_YTD_BEG'), a.get('CURRENT_YTD_END')))\n",
    "#dfall = dfall.dropna(axis='columns', how='all') \n",
    "spark_df = ss.sql(sqlall)\n",
    "spark_df = spark_df.withColumn(\"Rundate\",current_date())\n",
    "spark_df.registerTempTable(\"spark_df\")\n",
    "#spark_df.write.mode(\"overwrite\").format(\"orc\").saveAsTable(\"sb_rmo_ho_reporting.lender_dashboard_tat_desj\")\n",
    "#print(\"Final table row count: \", spark_df.count())\n",
    "print(\"Table creation for Main Data with TAT and Desjardins Rep completed at: \", str(datetime.now()))"
   ]
  },
  {
   "cell_type": "code",
   "execution_count": 0,
   "metadata": {
    "application/vnd.databricks.v1+cell": {
     "cellMetadata": {
      "byteLimit": 2048000,
      "rowLimit": 10000
     },
     "inputWidgets": {},
     "nuid": "a5e5ce2d-a545-4f30-9c01-84d7d82cb064",
     "showTitle": false,
     "title": ""
    }
   },
   "outputs": [],
   "source": [
    "#distinct_count = spark_df.select(\"parent_level1_lender_nm_en\").distinct().count()\n",
    "#print(\"Distinct count:\", distinct_count)"
   ]
  },
  {
   "cell_type": "code",
   "execution_count": 0,
   "metadata": {
    "application/vnd.databricks.v1+cell": {
     "cellMetadata": {
      "byteLimit": 2048000,
      "rowLimit": 10000
     },
     "inputWidgets": {},
     "nuid": "0424b77c-6f66-4523-bb6b-7be3f5ad7dae",
     "showTitle": false,
     "title": ""
    }
   },
   "outputs": [
    {
     "output_type": "stream",
     "name": "stderr",
     "output_type": "stream",
     "text": [
      "/databricks/spark/python/pyspark/sql/dataframe.py:334: FutureWarning: Deprecated in 2.0, use createOrReplaceTempView instead.\n  warnings.warn(\"Deprecated in 2.0, use createOrReplaceTempView instead.\", FutureWarning)\n"
     ]
    }
   ],
   "source": [
    "#Create borrower scorecard rating result DF, at first risking\n",
    "sqlborr = \"\"\"\n",
    "select distinct\n",
    "t1.cmhc_loan_account_nbr, \n",
    "t1.scorecard_model_rating_type_desc_en as borrower_scorecard_rating\n",
    "\n",
    "from cmwdw_insurance.vwdw_borrower_transm_basic_dim t1\n",
    "inner join \n",
    "(select cmhc_loan_account_nbr, min(application_identifier_ts) as first_risking\n",
    "\n",
    "from cmwdw_insurance.vwdw_borrower_transm_basic_dim \n",
    "\n",
    "where borrower_sequence_id = 1 and application_identifier_ts >= '2016-01-01' and application_identifier_ts < '9999-12-01'\n",
    "and scorecard_model_rating_tcd not in ('**')\n",
    "group by cmhc_loan_account_nbr) as t2\n",
    "on t1.cmhc_loan_account_nbr = t2.cmhc_loan_account_nbr and t1.application_identifier_ts = t2.first_risking\n",
    "where t1.borrower_sequence_id = 1 \n",
    "and t1.application_identifier_ts >= '2016-01-01' and t1.application_identifier_ts < '9999-12-01'\n",
    "\"\"\"\n",
    "df_borr = ss.sql(sqlborr)\n",
    "df_borr.registerTempTable(\"df_borr\")\n",
    "\n",
    "#Create Co-borrower scorecard rating result DF, at first risking\n",
    "sqlcoborr = \"\"\"\n",
    "select distinct \n",
    "t1.cmhc_loan_account_nbr, \n",
    "t1.scorecard_model_rating_type_desc_en as coborrower_scorecard_rating\n",
    "\n",
    "from cmwdw_insurance.vwdw_borrower_transm_basic_dim t1\n",
    "inner join \n",
    "(select cmhc_loan_account_nbr, min(application_identifier_ts) as first_risking\n",
    "    from cmwdw_insurance.vwdw_borrower_transm_basic_dim \n",
    "\n",
    "where borrower_sequence_id = 2 and application_identifier_ts >= '2016-01-01' and application_identifier_ts < '9999-12-01'\n",
    "and scorecard_model_rating_tcd not in ('**')\n",
    "\n",
    "group by cmhc_loan_account_nbr) as t2\n",
    "on t1.cmhc_loan_account_nbr = t2.cmhc_loan_account_nbr and t1.application_identifier_ts = t2.first_risking\n",
    "where t1.borrower_sequence_id = 2 \n",
    "and t1.application_identifier_ts >= '2016-01-01' and t1.application_identifier_ts < '9999-12-01'\n",
    "\"\"\"\n",
    "df_coborr = ss.sql(sqlcoborr)\n",
    "df_coborr.registerTempTable(\"df_coborr\")"
   ]
  },
  {
   "cell_type": "code",
   "execution_count": 0,
   "metadata": {
    "application/vnd.databricks.v1+cell": {
     "cellMetadata": {
      "byteLimit": 2048000,
      "rowLimit": 10000
     },
     "inputWidgets": {},
     "nuid": "d3f08b78-d6b9-4dfb-bd70-824aa9ffdf5a",
     "showTitle": false,
     "title": ""
    }
   },
   "outputs": [
    {
     "output_type": "stream",
     "name": "stdout",
     "output_type": "stream",
     "text": [
      "Final table with Scorecard results row count:  430286\nTable creation for Main Data with TAT, Desjardins Rep, Scorecard results completed at:  2024-09-06 15:38:31.532760\n"
     ]
    }
   ],
   "source": [
    "#Merge with main table and save in Data Lake\n",
    "sqlallborr = \"\"\"\n",
    "select distinct \n",
    "t1.*,\n",
    "t2.borrower_scorecard_rating,\n",
    "t3.coborrower_scorecard_rating\n",
    "from spark_df t1\n",
    "left join df_borr t2 \n",
    "on t1.cmhc_loan_account_nbr = t2.cmhc_loan_account_nbr\n",
    "left join df_coborr t3 \n",
    "on t1.cmhc_loan_account_nbr = t3.cmhc_loan_account_nbr\n",
    "\"\"\"\n",
    "df_allborr = ss.sql(sqlallborr)\n",
    "df_allborr.write.mode(\"overwrite\").format(\"orc\").saveAsTable(\"sb_rmo_ho_reporting.lender_dashboard_tat_desj\")\n",
    "print(\"Final table with Scorecard results row count: \", df_allborr.count())\n",
    "print(\"Table creation for Main Data with TAT, Desjardins Rep, Scorecard results completed at: \", str(datetime.now()))"
   ]
  },
  {
   "cell_type": "code",
   "execution_count": 0,
   "metadata": {
    "application/vnd.databricks.v1+cell": {
     "cellMetadata": {
      "byteLimit": 2048000,
      "rowLimit": 10000
     },
     "inputWidgets": {},
     "nuid": "a3d62664-a451-481d-90dd-4ae7bd73965b",
     "showTitle": false,
     "title": ""
    }
   },
   "outputs": [],
   "source": [
    "#distinct_count = df_allborr.select(\"PARENT_LENDER_EN\").distinct().count()\n",
    "#print(\"Distinct count:\", distinct_count)\n",
    "\n",
    "#distinct_count = df_allborr.select(\"PARENT_LENDER_EN\").distinct()\n",
    "#distinct_count.display()"
   ]
  },
  {
   "cell_type": "code",
   "execution_count": 0,
   "metadata": {
    "application/vnd.databricks.v1+cell": {
     "cellMetadata": {
      "byteLimit": 2048000,
      "rowLimit": 10000
     },
     "inputWidgets": {},
     "nuid": "eb07d5c0-2123-4431-9148-6c6f8cf2d703",
     "showTitle": false,
     "title": ""
    }
   },
   "outputs": [
    {
     "output_type": "stream",
     "name": "stdout",
     "output_type": "stream",
     "text": [
      "Summary TAT table row count:  66846\nTable creation for Summary TAT completed at:  2024-09-06 15:38:37.308964\n"
     ]
    }
   ],
   "source": [
    "#Summarize TAT data for Power BI Dashboard\n",
    "sqlsum = \"\"\"\n",
    "select distinct\n",
    "TRANSIT_ID,\n",
    "LENDER_EN,\n",
    "LENDER_CDE,\n",
    "PARENT_LENDER_EN, \n",
    "PARENT_LENDER_CODE,\n",
    "MONTH,\n",
    "SOURCE,\n",
    "CMHC_SOURCE,\n",
    "MOSE_CHANNEL,\n",
    "LENDER_GROUP,\n",
    "REGION,\n",
    "BRANCH_REGION,\n",
    "Mkt,\n",
    "BRM_RVP,\n",
    "HFLM_RD,\n",
    "SALES_MANAGER,\n",
    "HFS_RD,\n",
    "DR,\n",
    "CDA,\n",
    "PVP,\n",
    "VPR,\n",
    "COUNT(RESPONSE)AS RESPONSE_CNT,\n",
    "COUNT(RESPONSE_TOTAL)AS RESPONSE_TOTAL_CNT,\n",
    "COUNT(DECISION) AS DECISION_CNT,\n",
    "COUNT(DECISION_TOTAL) AS DECISION_TOTAL_CNT,\n",
    "COUNT(DECISION_R3) AS DECISIONR3_CNT,\n",
    "COUNT(DECISION_R3_TOTAL) AS DECISIONR3_TOTAL_CNT\n",
    "\n",
    "from sb_rmo_ho_reporting.lender_dashboard_tat_desj\n",
    "group by \n",
    "TRANSIT_ID,\n",
    "LENDER_EN, \n",
    "LENDER_CDE,\n",
    "PARENT_LENDER_EN, \n",
    "PARENT_LENDER_CODE,\n",
    "MONTH,\n",
    "SOURCE,\n",
    "CMHC_SOURCE,\n",
    "MOSE_CHANNEL,\n",
    "LENDER_GROUP,\n",
    "REGION,\n",
    "BRANCH_REGION,\n",
    "Mkt,\n",
    "BRM_RVP,\n",
    "HFLM_RD,\n",
    "SALES_MANAGER,\n",
    "HFS_RD,\n",
    "DR,\n",
    "CDA,\n",
    "PVP,\n",
    "VPR\n",
    "\"\"\"\n",
    "\n",
    "df_sum = ss.sql(sqlsum)\n",
    "df_sum.write.mode(\"overwrite\").format(\"orc\").saveAsTable(\"sb_rmo_ho_reporting.lender_dashboard_summary_tat\")\n",
    "print(\"Summary TAT table row count: \", df_sum.count())\n",
    "print(\"Table creation for Summary TAT completed at: \", str(datetime.now()))"
   ]
  },
  {
   "cell_type": "code",
   "execution_count": 0,
   "metadata": {
    "application/vnd.databricks.v1+cell": {
     "cellMetadata": {
      "byteLimit": 2048000,
      "rowLimit": 10000
     },
     "inputWidgets": {},
     "nuid": "6122cd54-fe08-498b-862e-398f99e48849",
     "showTitle": false,
     "title": ""
    }
   },
   "outputs": [],
   "source": [
    "#distinct_count = df_sum.select(\"PARENT_LENDER_EN\").distinct().count()\n",
    "#print(\"Distinct count:\", distinct_count)"
   ]
  },
  {
   "cell_type": "code",
   "execution_count": 0,
   "metadata": {
    "application/vnd.databricks.v1+cell": {
     "cellMetadata": {
      "byteLimit": 2048000,
      "rowLimit": 10000
     },
     "inputWidgets": {},
     "nuid": "d2a1f163-3c91-4063-9a56-699684d2f5de",
     "showTitle": false,
     "title": ""
    }
   },
   "outputs": [],
   "source": []
  }
 ],
 "metadata": {
  "application/vnd.databricks.v1+notebook": {
   "dashboards": [],
   "environmentMetadata": {
    "base_environment": "",
    "client": "1"
   },
   "language": "python",
   "notebookMetadata": {
    "pythonIndentUnit": 4
   },
   "notebookName": "2-Main Data Cont._TAT_Desj_DL_Feb2023",
   "widgets": {}
  },
  "kernelspec": {
   "display_name": "Python 3.5.4",
   "language": "python",
   "name": "python3"
  },
  "language_info": {
   "codemirror_mode": {
    "name": "ipython",
    "version": 3
   },
   "file_extension": ".py",
   "mimetype": "text/x-python",
   "name": "python",
   "nbconvert_exporter": "python",
   "pygments_lexer": "ipython3",
   "version": "3.5.4"
  }
 },
 "nbformat": 4,
 "nbformat_minor": 0
}
