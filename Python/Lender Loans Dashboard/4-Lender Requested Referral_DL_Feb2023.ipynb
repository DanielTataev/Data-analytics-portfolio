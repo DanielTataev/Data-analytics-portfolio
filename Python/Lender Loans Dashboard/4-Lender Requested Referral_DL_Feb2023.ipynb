{
 "cells": [
  {
   "cell_type": "code",
   "execution_count": 0,
   "metadata": {
    "application/vnd.databricks.v1+cell": {
     "cellMetadata": {
      "byteLimit": 2048000,
      "rowLimit": 10000
     },
     "inputWidgets": {},
     "nuid": "8d0fb1f0-87d3-42b9-bba6-b41633d17ace",
     "showTitle": false,
     "title": ""
    }
   },
   "outputs": [],
   "source": [
    "from datetime import datetime, timedelta \n",
    "from getpass import getuser as get_user \n",
    "from getpass import getpass as get_password \n",
    "from os import environ as enviroment_vars \n",
    "from os import setpgrp as set_process_group \n",
    "from random import random \n",
    "from shlex import split as cmd_split \n",
    "from string import punctuation \n",
    "from subprocess import Popen, PIPE, STDOUT \n",
    "import pandas as pd "
   ]
  },
  {
   "cell_type": "code",
   "execution_count": 0,
   "metadata": {
    "application/vnd.databricks.v1+cell": {
     "cellMetadata": {
      "byteLimit": 2048000,
      "rowLimit": 10000
     },
     "collapsed": true,
     "inputWidgets": {},
     "nuid": "6e97871b-c638-48df-925a-83cecb18df0f",
     "showTitle": false,
     "title": ""
    }
   },
   "outputs": [
    {
     "output_type": "execute_result",
     "data": {
      "text/html": [
       "\n",
       "            <div>\n",
       "                <p><b>SparkSession - hive</b></p>\n",
       "                \n",
       "        <div>\n",
       "            <p><b>SparkContext</b></p>\n",
       "\n",
       "            <p><a href=\"http://10.245.8.150:40001\">Spark UI</a></p>\n",
       "\n",
       "            <dl>\n",
       "              <dt>Version</dt>\n",
       "                <dd><code>v3.4.1</code></dd>\n",
       "              <dt>Master</dt>\n",
       "                <dd><code>spark://10.245.8.150:7077</code></dd>\n",
       "              <dt>AppName</dt>\n",
       "                <dd><code>Databricks Shell</code></dd>\n",
       "            </dl>\n",
       "        </div>\n",
       "        \n",
       "            </div>\n",
       "        "
      ],
      "text/plain": [
       "<pyspark.sql.session.SparkSession at 0x7f05d8635420>"
      ]
     },
     "execution_count": 2,
     "metadata": {},
     "output_type": "execute_result"
    }
   ],
   "source": [
    "from pyspark import SparkContext, HiveContext, SparkConf  \n",
    "from pyspark.sql import SparkSession \n",
    "\n",
    "ss = SparkSession(sc) \n",
    "ss "
   ]
  },
  {
   "cell_type": "code",
   "execution_count": 0,
   "metadata": {
    "application/vnd.databricks.v1+cell": {
     "cellMetadata": {
      "byteLimit": 2048000,
      "rowLimit": 10000
     },
     "inputWidgets": {},
     "nuid": "b307ecfd-4640-4444-9bd0-8c57d53f1d75",
     "showTitle": false,
     "title": ""
    }
   },
   "outputs": [
    {
     "output_type": "stream",
     "name": "stdout",
     "output_type": "stream",
     "text": [
      "Base Data row count:  430286\nCurrent YTD Base Dataframe creation completed at:  2024-09-10 15:04:44.727149\n"
     ]
    }
   ],
   "source": [
    "#Calculate Base Data for Current and Previous YTD received loans to merge with LRR data later\n",
    "\n",
    "sql = \"\"\"\n",
    "select distinct\n",
    "    SIT.RUNDATE,\n",
    "    SIT.REPORT_DATE,\n",
    "    SIT.cmhc_loan_account_nbr,\n",
    "    SIT.aplcrecd,/*changed*/\n",
    "    SIT.REC_YEAR,\n",
    "    sit.rec_month, /*changed*/\n",
    "    SIT.LENDER_EN, \n",
    "    SIT.LENDER_CDE,\n",
    "    SIT.PARENT_LENDER_EN, \n",
    "    SIT.PARENT_LENDER_CODE\n",
    "    \n",
    "from sb_rmo_ho_reporting.lender_dashboard_tat_desj as SIT\n",
    "\n",
    "order by SIT.cmhc_loan_account_nbr\n",
    "\"\"\"\n",
    "\n",
    "base_df = ss.sql(sql)\n",
    "print(\"Base Data row count: \", base_df.count())\n",
    "print(\"Current YTD Base Dataframe creation completed at: \", str(datetime.now()))"
   ]
  },
  {
   "cell_type": "code",
   "execution_count": 0,
   "metadata": {
    "application/vnd.databricks.v1+cell": {
     "cellMetadata": {
      "byteLimit": 2048000,
      "rowLimit": 10000
     },
     "inputWidgets": {},
     "nuid": "c1ef80f9-6391-4693-904d-0814dd614545",
     "showTitle": false,
     "title": ""
    }
   },
   "outputs": [],
   "source": [
    "base_df.createOrReplaceTempView(\"base_df\")\n",
    "\n",
    "df1=spark.sql(\"\"\"\n",
    "select distinct\n",
    "sit.*,\n",
    "--cast(concat(SUBSTRING(emili.aplcrecd,1,4),\"-\",SUBSTRING(emili.aplcrecd,5,2),\"-\",\"01\" ) as date) as Rec_month,\n",
    "case when \n",
    "    frisk.MIAPRCD1 = \"26\" and  frisk.miaprcd2 is null then 1\n",
    "    else 0\n",
    "end as LRR_Only_frisk, --GOOD one!!!\n",
    "\n",
    "max(case when trim(lrr.loan_referral_reason_tcd) in (26) then 1 else 0 end) as LRR_ever, \n",
    "\n",
    "lad.business_source_identification_desc_en\n",
    "--trim(ltd.contact_nm) as Contact_nm /*lender's RU*/\n",
    "\n",
    "from base_df sit\n",
    "Left join ds_ins_risk.ins_risk_last emili\n",
    "    on sit.cmhc_loan_account_nbr=emili.lnacctno\n",
    "left join ds_ins_risk.ins_risk_first frisk\n",
    "on emili.lnacctno = frisk.lnacctno\n",
    "\n",
    "left join cmwdw_insurance.vwdw_loan_account_dim lad\n",
    "on emili.lnacctno = lad.cmhc_loan_account_nbr\n",
    "left join cmwdw_insurance.vwdw_lender_dim len\n",
    "on emili.AVLENDCD = len.lender_cde\n",
    "left join cmwdw_insurance.vwdw_costable_unit_dim cu\n",
    "on emili.cucode = cu.costable_unit_cde\n",
    "\n",
    "  left join cmwdw_insurance.vwdw_loan_transmission_dim ltd \n",
    "    on emili.lnacctno = ltd.cmhc_loan_account_nbr \n",
    "    left join cmwdw_insurance.tbdw_tgt_autoreferral_transaction_fact ref \n",
    "    on ref.loan_transmission_surrkey = ltd.loan_transmission_surrkey\n",
    "    left join cmwdw_insurance.tbdw_tgt_loan_referral_reason_dim lrr\n",
    "    on ref.loan_referral_reason_surrkey = lrr.loan_referral_reason_surrkey\n",
    "\n",
    "left join cmwdw_insurance.vwdw_loan_account_sum las\n",
    "on lad.loan_account_surrkey = las.loan_account_surrkey \n",
    "left join cmwdw_insurance.tbdw_tgt_property_account_dim prop\n",
    "on emili.lnacctno =  prop.cmhc_loan_account_nbr\n",
    "left join cmwdw_insurance.vwdw_loan_transmission_sum lts\n",
    "on las.loan_account_surrkey=lts.loan_account_surrkey\n",
    "\n",
    "group by all\n",
    "\"\"\")\n",
    "\n"
   ]
  },
  {
   "cell_type": "code",
   "execution_count": 0,
   "metadata": {
    "application/vnd.databricks.v1+cell": {
     "cellMetadata": {
      "byteLimit": 2048000,
      "rowLimit": 10000
     },
     "collapsed": true,
     "inputWidgets": {},
     "nuid": "01d9372a-04b4-4cbc-a761-71d1f8a4b48b",
     "showTitle": false,
     "title": ""
    }
   },
   "outputs": [],
   "source": [
    "#display(dftest.filter((df1['cmhc_loan_account_nbr'] == '25695786')))"
   ]
  },
  {
   "cell_type": "code",
   "execution_count": 0,
   "metadata": {
    "application/vnd.databricks.v1+cell": {
     "cellMetadata": {
      "byteLimit": 2048000,
      "rowLimit": 10000
     },
     "collapsed": true,
     "inputWidgets": {},
     "nuid": "7e2d727c-e5ce-47dc-88c7-23a700d1225a",
     "showTitle": false,
     "title": ""
    }
   },
   "outputs": [
    {
     "output_type": "display_data",
     "data": {
      "text/plain": [
       "\u001B[0;36m  File \u001B[0;32m<command-174232460761083>, line 1\u001B[0;36m\u001B[0m\n",
       "\u001B[0;31m    '''#Merge Lender Requested Referrals in FIRST RISKING and ALL RISKING with Base Data, and save in AIP Sandbox\u001B[0m\n",
       "\u001B[0m    ^\u001B[0m\n",
       "\u001B[0;31mSyntaxError\u001B[0m\u001B[0;31m:\u001B[0m incomplete input\n"
      ]
     },
     "metadata": {
      "application/vnd.databricks.v1+output": {
       "arguments": {},
       "data": "\u001B[0;36m  File \u001B[0;32m<command-174232460761083>, line 1\u001B[0;36m\u001B[0m\n\u001B[0;31m    '''#Merge Lender Requested Referrals in FIRST RISKING and ALL RISKING with Base Data, and save in AIP Sandbox\u001B[0m\n\u001B[0m    ^\u001B[0m\n\u001B[0;31mSyntaxError\u001B[0m\u001B[0;31m:\u001B[0m incomplete input\n",
       "errorSummary": "<span class='ansi-red-fg'>SyntaxError</span>: incomplete input (command-174232460761083-2212281622, line 1)",
       "errorTraceType": "ansi",
       "metadata": {},
       "type": "ipynbError"
      }
     },
     "output_type": "display_data"
    }
   ],
   "source": [
    "'''#Merge Lender Requested Referrals in FIRST RISKING and ALL RISKING with Base Data, and save in AIP Sandbox\n",
    "lrr_df.createOrReplaceTempView(\"lrr_df\")\n",
    "\n",
    "lrr_sum_df = spark.sql(\"\"\"\n",
    "select\n",
    "    SIT.cmhc_loan_account_nbr,\n",
    "    SIT.RUNDATE,\n",
    "    SIT.aplcrecd,\n",
    "    SIT.REPORT_DATE,\n",
    "    SIT.REC_YEAR,\n",
    "    sit.rec_month,\n",
    "    SIT.LENDER_EN, \n",
    "    SIT.LENDER_CDE,\n",
    "    SIT.PARENT_LENDER_EN, \n",
    "    SIT.PARENT_LENDER_CODE,\n",
    "    count(SIT.cmhc_loan_account_nbr) as Received,\n",
    "    sum(lrr.referred_ind_frisk) as referred_frisk,\n",
    "    sum(lrr.lrr_old) as LRR_frisk_old,\n",
    "    sum(lrr.llr_only_frisk) as LRR_only_frisk,\n",
    "    sum(lrr_t.LRR_ever) as LRR_ever\n",
    "\n",
    "from base_df sit\n",
    "    left join lrr_df lrr \n",
    "        on sit.cmhc_loan_account_nbr=lrr.cmhc_loan_account_nbr\n",
    "    left join lrr2_df lrr_t\n",
    "        on sit.cmhc_loan_account_nbr=lrr_t.cmhc_loan_account_nbr\n",
    "group by all\n",
    "\"\"\")\n",
    "'''"
   ]
  },
  {
   "cell_type": "code",
   "execution_count": 0,
   "metadata": {
    "application/vnd.databricks.v1+cell": {
     "cellMetadata": {
      "byteLimit": 2048000,
      "rowLimit": 10000
     },
     "inputWidgets": {},
     "nuid": "cc762e0f-3869-474c-b017-ae6fc6a34f5d",
     "showTitle": false,
     "title": ""
    }
   },
   "outputs": [
    {
     "output_type": "stream",
     "name": "stdout",
     "output_type": "stream",
     "text": [
      "FINAL Lender Requested Referral table row count:  430286\nFINAL TABLE creation for Lender Requested Referral Summary completed at:  2024-09-10 15:21:52.377500\n"
     ]
    }
   ],
   "source": [
    "#lrr_sum_df = ss.sql(sql_lrr_sum)\n",
    "df1.write.mode(\"overwrite\").format(\"orc\").saveAsTable(\"sb_rmo_ho_reporting.lender_dashboard_LRR3\")\n",
    "#lrr_sum_df.write.mode(\"overwrite\").insertInto(\"sb_rmo_ho_reporting.lender_dashboard_LRR\")\n",
    "\n",
    "print(\"FINAL Lender Requested Referral table row count: \", df1.count())\n",
    "print(\"FINAL TABLE creation for Lender Requested Referral Summary completed at: \", str(datetime.now()))"
   ]
  },
  {
   "cell_type": "code",
   "execution_count": 0,
   "metadata": {
    "application/vnd.databricks.v1+cell": {
     "cellMetadata": {
      "byteLimit": 2048000,
      "implicitDf": true,
      "rowLimit": 10000
     },
     "collapsed": true,
     "inputWidgets": {},
     "nuid": "e1746e75-fa0d-4381-a9bd-f82ad8d1e182",
     "showTitle": false,
     "title": ""
    }
   },
   "outputs": [
    {
     "output_type": "display_data",
     "data": {
      "text/html": [
       "<style scoped>\n",
       "  .table-result-container {\n",
       "    max-height: 300px;\n",
       "    overflow: auto;\n",
       "  }\n",
       "  table, th, td {\n",
       "    border: 1px solid black;\n",
       "    border-collapse: collapse;\n",
       "  }\n",
       "  th, td {\n",
       "    padding: 5px;\n",
       "  }\n",
       "  th {\n",
       "    text-align: left;\n",
       "  }\n",
       "</style><div class='table-result-container'><table class='table-result'><thead style='background-color: white'><tr><th>col_name</th><th>data_type</th><th>comment</th></tr></thead><tbody><tr><td>RUNDATE</td><td>date</td><td>null</td></tr><tr><td>REPORT_DATE</td><td>string</td><td>null</td></tr><tr><td>cmhc_loan_account_nbr</td><td>bigint</td><td>null</td></tr><tr><td>aplcrecd</td><td>string</td><td>null</td></tr><tr><td>REC_YEAR</td><td>string</td><td>null</td></tr><tr><td>rec_month</td><td>string</td><td>null</td></tr><tr><td>LENDER_EN</td><td>string</td><td>null</td></tr><tr><td>LENDER_CDE</td><td>string</td><td>null</td></tr><tr><td>PARENT_LENDER_EN</td><td>string</td><td>null</td></tr><tr><td>PARENT_LENDER_CODE</td><td>string</td><td>null</td></tr><tr><td>LRR_Only_frisk</td><td>int</td><td>null</td></tr><tr><td>LRR_ever</td><td>int</td><td>null</td></tr><tr><td>business_source_identification_desc_en</td><td>varchar(100)</td><td></td></tr><tr><td></td><td></td><td></td></tr><tr><td># Detailed Table Information</td><td></td><td></td></tr><tr><td>Catalog</td><td>spark_catalog</td><td></td></tr><tr><td>Database</td><td>sb_rmo_ho_reporting</td><td></td></tr><tr><td>Table</td><td>lender_dashboard_lrr</td><td></td></tr><tr><td>Owner</td><td>root</td><td></td></tr><tr><td>Created Time</td><td>Tue Sep 10 15:15:52 EDT 2024</td><td></td></tr><tr><td>Last Access</td><td>UNKNOWN</td><td></td></tr><tr><td>Created By</td><td>Spark 3.4.1</td><td></td></tr><tr><td>Type</td><td>EXTERNAL</td><td></td></tr><tr><td>Provider</td><td>orc</td><td></td></tr><tr><td>Table Properties</td><td>[bucketing_version=2]</td><td></td></tr><tr><td>Location</td><td>abfss://sandbox@eppd1stcdp01.dfs.core.windows.net/data/sandbox/SB_RMO_HO_Reporting/SB_RMO_HO_Reporting/lender_dashboard_lrr3</td><td></td></tr><tr><td>Serde Library</td><td>org.apache.hadoop.hive.ql.io.orc.OrcSerde</td><td></td></tr><tr><td>InputFormat</td><td>org.apache.hadoop.hive.ql.io.orc.OrcInputFormat</td><td></td></tr><tr><td>OutputFormat</td><td>org.apache.hadoop.hive.ql.io.orc.OrcOutputFormat</td><td></td></tr></tbody></table></div>"
      ]
     },
     "metadata": {
      "application/vnd.databricks.v1+output": {
       "addedWidgets": {},
       "aggData": [],
       "aggError": "",
       "aggOverflow": false,
       "aggSchema": [],
       "aggSeriesLimitReached": false,
       "aggType": "",
       "arguments": {},
       "columnCustomDisplayInfos": {},
       "data": [
        [
         "RUNDATE",
         "date",
         null
        ],
        [
         "REPORT_DATE",
         "string",
         null
        ],
        [
         "cmhc_loan_account_nbr",
         "bigint",
         null
        ],
        [
         "aplcrecd",
         "string",
         null
        ],
        [
         "REC_YEAR",
         "string",
         null
        ],
        [
         "rec_month",
         "string",
         null
        ],
        [
         "LENDER_EN",
         "string",
         null
        ],
        [
         "LENDER_CDE",
         "string",
         null
        ],
        [
         "PARENT_LENDER_EN",
         "string",
         null
        ],
        [
         "PARENT_LENDER_CODE",
         "string",
         null
        ],
        [
         "LRR_Only_frisk",
         "int",
         null
        ],
        [
         "LRR_ever",
         "int",
         null
        ],
        [
         "business_source_identification_desc_en",
         "varchar(100)",
         ""
        ],
        [
         "",
         "",
         ""
        ],
        [
         "# Detailed Table Information",
         "",
         ""
        ],
        [
         "Catalog",
         "spark_catalog",
         ""
        ],
        [
         "Database",
         "sb_rmo_ho_reporting",
         ""
        ],
        [
         "Table",
         "lender_dashboard_lrr",
         ""
        ],
        [
         "Owner",
         "root",
         ""
        ],
        [
         "Created Time",
         "Tue Sep 10 15:15:52 EDT 2024",
         ""
        ],
        [
         "Last Access",
         "UNKNOWN",
         ""
        ],
        [
         "Created By",
         "Spark 3.4.1",
         ""
        ],
        [
         "Type",
         "EXTERNAL",
         ""
        ],
        [
         "Provider",
         "orc",
         ""
        ],
        [
         "Table Properties",
         "[bucketing_version=2]",
         ""
        ],
        [
         "Location",
         "abfss://sandbox@eppd1stcdp01.dfs.core.windows.net/data/sandbox/SB_RMO_HO_Reporting/SB_RMO_HO_Reporting/lender_dashboard_lrr3",
         ""
        ],
        [
         "Serde Library",
         "org.apache.hadoop.hive.ql.io.orc.OrcSerde",
         ""
        ],
        [
         "InputFormat",
         "org.apache.hadoop.hive.ql.io.orc.OrcInputFormat",
         ""
        ],
        [
         "OutputFormat",
         "org.apache.hadoop.hive.ql.io.orc.OrcOutputFormat",
         ""
        ]
       ],
       "datasetInfos": [],
       "dbfsResultPath": null,
       "isJsonSchema": true,
       "metadata": {
        "dataframeName": "_sqldf",
        "executionCount": 18
       },
       "overflow": false,
       "plotOptions": {
        "customPlotOptions": {},
        "displayType": "table",
        "pivotAggregation": null,
        "pivotColumns": null,
        "xColumns": null,
        "yColumns": null
       },
       "removedWidgets": [],
       "schema": [
        {
         "metadata": "{\"comment\":\"name of the column\"}",
         "name": "col_name",
         "type": "\"string\""
        },
        {
         "metadata": "{\"comment\":\"data type of the column\"}",
         "name": "data_type",
         "type": "\"string\""
        },
        {
         "metadata": "{\"comment\":\"comment of the column\"}",
         "name": "comment",
         "type": "\"string\""
        }
       ],
       "type": "table"
      }
     },
     "output_type": "display_data"
    }
   ],
   "source": [
    "%sql\n",
    "describe extended sb_rmo_ho_reporting.lender_dashboard_LRR"
   ]
  },
  {
   "cell_type": "code",
   "execution_count": 0,
   "metadata": {
    "application/vnd.databricks.v1+cell": {
     "cellMetadata": {
      "byteLimit": 2048000,
      "rowLimit": 10000
     },
     "inputWidgets": {},
     "nuid": "65f6f0a6-2b85-4207-b8b8-369628e3bc7a",
     "showTitle": false,
     "title": ""
    }
   },
   "outputs": [],
   "source": [
    "# fixes issue with the writing a table LRR. still use LRR3 for now.\n",
    "df1.write.mode(\"overwrite\") \\\n",
    "    .format(\"orc\") \\\n",
    "    .option(\"path\", \"abfss://sandbox@eppd1stcdp01.dfs.core.windows.net/data/sandbox/SB_RMO_HO_Reporting/SB_RMO_HO_Reporting/lender_dashboard_lrr\") \\\n",
    "    .saveAsTable(\"sb_rmo_ho_reporting.lender_dashboard_LRR\")"
   ]
  }
 ],
 "metadata": {
  "application/vnd.databricks.v1+notebook": {
   "dashboards": [],
   "environmentMetadata": {
    "base_environment": "",
    "client": "1"
   },
   "language": "python",
   "notebookMetadata": {
    "mostRecentlyExecutedCommandWithImplicitDF": {
     "commandId": 1109139884339809,
     "dataframes": [
      "_sqldf"
     ]
    },
    "pythonIndentUnit": 4
   },
   "notebookName": "4-Lender Requested Referral_DL_Feb2023",
   "widgets": {}
  },
  "kernelspec": {
   "display_name": "Python 3.5.4",
   "language": "python",
   "name": "python3"
  },
  "language_info": {
   "codemirror_mode": {
    "name": "ipython",
    "version": 3
   },
   "file_extension": ".py",
   "mimetype": "text/x-python",
   "name": "python",
   "nbconvert_exporter": "python",
   "pygments_lexer": "ipython3",
   "version": "3.5.4"
  }
 },
 "nbformat": 4,
 "nbformat_minor": 0
}
