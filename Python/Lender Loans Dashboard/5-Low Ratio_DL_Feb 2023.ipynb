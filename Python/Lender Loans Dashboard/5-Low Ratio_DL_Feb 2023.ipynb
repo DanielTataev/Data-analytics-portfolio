{
 "cells": [
  {
   "cell_type": "code",
   "execution_count": 0,
   "metadata": {
    "application/vnd.databricks.v1+cell": {
     "cellMetadata": {
      "byteLimit": 2048000,
      "rowLimit": 10000
     },
     "inputWidgets": {},
     "nuid": "1484d593-70fd-4d20-ad76-21eceadd2d08",
     "showTitle": false,
     "title": ""
    }
   },
   "outputs": [
    {
     "output_type": "stream",
     "name": "stdout",
     "output_type": "stream",
     "text": [
      "\u001B[43mNote: you may need to restart the kernel using dbutils.library.restartPython() to use updated packages.\u001B[0m\nRequirement already satisfied: openpyxl in /local_disk0/.ephemeral_nfs/cluster_libraries/python/lib/python3.10/site-packages (3.1.4)\nRequirement already satisfied: et-xmlfile in /local_disk0/.ephemeral_nfs/cluster_libraries/python/lib/python3.10/site-packages (from openpyxl) (1.1.0)\n\u001B[43mNote: you may need to restart the kernel using dbutils.library.restartPython() to use updated packages.\u001B[0m\n"
     ]
    }
   ],
   "source": [
    "# needed to import excel files\n",
    "%pip install -i https://pypi.org/simple openpyxl"
   ]
  },
  {
   "cell_type": "code",
   "execution_count": 0,
   "metadata": {
    "application/vnd.databricks.v1+cell": {
     "cellMetadata": {
      "byteLimit": 2048000,
      "rowLimit": 10000
     },
     "inputWidgets": {},
     "nuid": "7d943c46-3519-4114-97a9-a37d6a42f722",
     "showTitle": false,
     "title": ""
    }
   },
   "outputs": [],
   "source": [
    "from datetime import datetime, timedelta \n",
    "from getpass import getuser as get_user \n",
    "from getpass import getpass as get_password \n",
    "from os import environ as enviroment_vars \n",
    "from os import setpgrp as set_process_group \n",
    "from random import random \n",
    "from shlex import split as cmd_split \n",
    "from string import punctuation \n",
    "from subprocess import Popen, PIPE, STDOUT \n",
    "import pandas as pd "
   ]
  },
  {
   "cell_type": "code",
   "execution_count": 0,
   "metadata": {
    "application/vnd.databricks.v1+cell": {
     "cellMetadata": {
      "byteLimit": 2048000,
      "rowLimit": 10000
     },
     "inputWidgets": {},
     "nuid": "e91aadf5-f356-4793-a6b2-3a31ec9cf079",
     "showTitle": false,
     "title": ""
    }
   },
   "outputs": [],
   "source": [
    "from pyspark import SparkContext, HiveContext, SparkConf  \n",
    "from pyspark.sql import SparkSession \n",
    "\n",
    "ss = SparkSession(sc) \n",
    "ss \n",
    "spark.conf.set(\"spark.databricks.io.cache.enabled\", \"true\")"
   ]
  },
  {
   "cell_type": "code",
   "execution_count": 0,
   "metadata": {
    "application/vnd.databricks.v1+cell": {
     "cellMetadata": {
      "byteLimit": 2048000,
      "rowLimit": 10000
     },
     "inputWidgets": {},
     "nuid": "e1625090-bf8a-48fa-9c51-729aab25c756",
     "showTitle": false,
     "title": ""
    }
   },
   "outputs": [
    {
     "output_type": "stream",
     "name": "stdout",
     "output_type": "stream",
     "text": [
      "Current year end: 2024-08-31 00:00:00\nCurrent year beginning: 2024-01-01 00:00:00\nPrevious year end: 2023-08-31 00:00:00\nPrevious year beginning: 2023-01-01 00:00:00\n"
     ]
    }
   ],
   "source": [
    "#Create Integer Date filters for the monthly calculation\n",
    "from datetime import datetime, timedelta \n",
    "from dateutil.relativedelta import relativedelta\n",
    "today = datetime.today()\n",
    "\n",
    "\n",
    "CURRENT_YTD_END = datetime(today.year, today.month, 1) - relativedelta(days=1)\n",
    "CURRENT_YTD_BEG = datetime(today.year, 1, 1)\n",
    "PRIOR_YTD_END = datetime(today.year - 1, today.month, 1) - relativedelta(days=1)\n",
    "PRIOR_YTD_BEG = datetime(PRIOR_YTD_END.year, 1, 1)\n",
    "PRIOR_YTD = datetime(today.year - 1, today.month, 1) - relativedelta(days=1)\n",
    "\n",
    "#CURRENT_YTD_END = datetime(today.year, today.month - 1, 31) #change date number to last day of the previous month\n",
    "#CURRENT_YTD_BEG = datetime(today.year, 1, 1)\n",
    "#Previous year - full year instead of YTD - Feb 2022\n",
    "#PRIOR_YTD_END = datetime(today.year - 1, today.month - 1, 31) \n",
    "#PRIOR_YTD_BEG = datetime(PRIOR_YTD_END.year, 1, 1)\n",
    "#PRIOR_YTD = datetime(today.year - 1, today.month - 1, 31) #change date number to last day of the previous month\n",
    "\n",
    "#ONLY USE BELOW FOR JAN EACH YEAE\n",
    "#CURRENT_YTD_END = int(datetime(today.year-1, 12, 31).strftime('%Y%m%d')) \n",
    "#CURRENT_YTD_BEG = int(datetime(today.year-1, 1, 1).strftime('%Y%m%d')) \n",
    "#PRIOR_YTD_END = int(datetime(today.year - 2, 12, 31).strftime('%Y%m%d'))  \n",
    "#PRIOR_YTD_BEG = int(datetime(today.year - 2, 1, 1).strftime('%Y%m%d')) \n",
    "\n",
    "print(\"Current year end: \" + str(CURRENT_YTD_END))\n",
    "print(\"Current year beginning: \" + str(CURRENT_YTD_BEG))\n",
    "print(\"Previous year end: \" + str(PRIOR_YTD_END))\n",
    "print(\"Previous year beginning: \" + str(PRIOR_YTD_BEG))\n",
    "#print(\"Previous year YTD: \" + str(PRIOR_YTD))"
   ]
  },
  {
   "cell_type": "code",
   "execution_count": 0,
   "metadata": {
    "application/vnd.databricks.v1+cell": {
     "cellMetadata": {
      "byteLimit": 2048000,
      "rowLimit": 10000
     },
     "inputWidgets": {},
     "nuid": "479ec89c-3b6f-4506-9dee-aebacf68a257",
     "showTitle": false,
     "title": ""
    }
   },
   "outputs": [
    {
     "output_type": "stream",
     "name": "stdout",
     "output_type": "stream",
     "text": [
      "Dataframe creation for HO Low Raio Loan Level Base Data completed at:  2024-09-06 18:07:58.814613\n"
     ]
    }
   ],
   "source": [
    "#Data Source: Data Lake - as HBT missing low ratio ever ind field\n",
    "#Pull in 2 years HO Low Ratio ALL CMHC Purchase and Refinance loans \n",
    "#Use low ratio ever ind = 1 to identifiy low ratio ever loans\n",
    "import pandas as pd \n",
    "\n",
    "a = {'CURRENT_YTD_BEG':CURRENT_YTD_BEG, \n",
    "     'CURRENT_YTD_END':CURRENT_YTD_END, \n",
    "     'PRIOR_YTD_BEG':PRIOR_YTD_BEG,  \n",
    "     'PRIOR_YTD_END':PRIOR_YTD_END,\n",
    "     }\n",
    "\n",
    "sql_lr = \"\"\"\n",
    "select distinct lad.cmhc_loan_account_nbr,\n",
    "lad.application_received_system_dt as received_date,\n",
    "case \n",
    "when lad.loan_purpose_tcd in ('1', '4', '7', '8', '9', 'D', '**') then 'Purchase'       \n",
    "when lad.loan_purpose_tcd in ('2', '3', '5', 'A', 'E') then 'Refinance'\n",
    "else 'Unknown'   \n",
    "end as loan_purpose,\n",
    "\n",
    "CASE WHEN emili.LNPURPCD IN ('','7','8','9','1','4') THEN 'PURCHASE'  \n",
    "WHEN emili.LNPURPCD ='D' THEN 'PORT' \n",
    "ELSE 'REFINANCE' END AS Loan_Purpose_new,\n",
    "\n",
    "CASE\n",
    "WHEN (lad.application_received_system_dt between '{2}' and '{4}') then \"PYTD\"\n",
    "WHEN (lad.application_received_system_dt between '{0}' and '{1}') THEN \"CYTD\"\n",
    "else \"NA\"\n",
    "END AS REC_YEAR,\n",
    "CASE\n",
    "WHEN (lad.application_received_system_dt between '{2}' and '{4}') then 1 else 0 \n",
    "end as PYTD,\n",
    "CASE\n",
    "WHEN (lad.application_received_system_dt between '{0}' and '{1}') THEN 1 else 0\n",
    "END AS CYTD,\n",
    "las.property_lending_value_amt AS LENDING_VALUE,\n",
    "las.loan_insured_amt,\n",
    "las.loan_lender_amt AS LOAN_AMT,\n",
    "case \n",
    "when lad.cmhc_loan_account_nbr is not null then 1 else 0 end as loan_cnt,\n",
    "lad.low_ratio_insurable_tcd,\n",
    "case \n",
    "when lad.low_ratio_insurable_tcd = '00' then 'Non-insurable'\n",
    "when lad.low_ratio_insurable_tcd = '01' then 'Insurable'\n",
    "when lad.low_ratio_insurable_tcd = '02' then 'Insur Via Portfolio'\n",
    "when lad.low_ratio_insurable_tcd = '**' AND lad.low_ratio_mortgage_tcd = '03' AND t1.account_status_tcd = '06' \n",
    "THEN 'Insurable' \n",
    "ELSE 'Non-insurable'\n",
    "END AS INSURABLE_RESPONSE,\n",
    "\n",
    "lad.low_ratio_mortgage_type_desc_en,\n",
    "case \n",
    "when lad.low_ratio_mortgage_tcd in ('**', '03') then \"Insurance\" \n",
    "else \"Low Ratio Assessment\" \n",
    "end as Insurance,\n",
    "\n",
    "lft.parent_level1_lender_nm_en AS PARENT_LENDER,\n",
    "lft.parent_level1_lender_cde,\n",
    "lft.parent_level2_lender_nm_en,\n",
    "lft.parent_level2_lender_cde,\n",
    "\n",
    "trim(lft.transit_id) as transit_id,\n",
    "trim(lad.contact_local_telephone_area_cde)||\"\"||trim(lad.contact_local_telephone_nbr) AS TELEPHONE,\n",
    "lad.business_source_identification_cde,\n",
    "lad.business_source_identification_desc_en,\n",
    "lad.contact_nm,\n",
    "concat(trim(lad.original_representative_first_nm), ' ', trim(lad.original_representative_last_nm)) as Original_Rep,\n",
    "pad.property_address_municipality_nm as PROP_Municipality,\n",
    "pad.current_stats_canada_province_nm_en as province,\n",
    "CASE \n",
    "WHEN trim(pad.current_stats_canada_province_cde) in ('00', '03', '01', '02') THEN 'ATLANTIC' \n",
    "WHEN trim(pad.current_stats_canada_province_cde) in ('08', '06', '07', '11', '13', '12') \n",
    "THEN 'PRAIRIES' \n",
    "ELSE trim(pad.current_stats_canada_province_nm_en) \n",
    "END AS REGION, \n",
    "pad.dwelling_type_desc_en AS Dwelling_type, \n",
    "pad.tenure_type_desc_en as Tenure_type\n",
    "\n",
    "from cmwdw_insurance.vwdw_loan_account_dim LAD\n",
    "\n",
    "left join cmwdw_insurance.vwdw_loan_account_sum LAS\n",
    "ON (lad.loan_account_surrkey=las.loan_account_surrkey)\n",
    "\n",
    "left join cmwdw_insurance.vwdw_costable_unit_dim CUD\n",
    "ON (las.costable_unit_surrkey=CUD.costable_unit_surrkey)\n",
    "\n",
    "Left join cmwdw_insurance.vwdw_lender_financial_trnst_dim lfT \n",
    "ON (las.initiation_lender_financial_transit_surrkey = lfT.lender_financial_transit_surrkey) \n",
    "\n",
    "left join cmwdw_insurance.tbdw_tgt_property_account_dim pad \n",
    "ON (las.property_account_surrkey=pad.property_account_surrkey)\n",
    "\n",
    "left join cmwdw_insurance.vwdw_loan_status_dim t1\n",
    "on (t1.loan_status_surrkey = las.loan_status_surrkey)\n",
    "\n",
    "left join ds_ins_risk.ins_risk_last emili\n",
    "on lad.cmhc_loan_account_nbr=emili.lnacctno\n",
    "\n",
    "WHERE\n",
    "lad.low_ratio_ever_ind=1\n",
    "AND lad.application_received_system_dt >='2020-01-01'\n",
    "AND cud.insurance_product_group_cde = '100' \n",
    "\"\"\"\n",
    "\n",
    "df_lr_p = ss.sql(sql_lr.format(a.get('CURRENT_YTD_BEG'), a.get('CURRENT_YTD_END'), a.get('PRIOR_YTD_BEG'), a.get('PRIOR_YTD_END'), a.get('PRIOR_YTD'))).toPandas()\n",
    "\n",
    "#Calculate Fiscal Year for Received date\n",
    "df_lr_p['received_date'] = pd.to_datetime(df_lr_p['received_date'])\n",
    "df_lr_p['Rec_fiscal_year'] = df_lr_p['received_date'].dt.to_period('Q-OCT').dt.qyear\n",
    "\n",
    "df_lr_p = df_lr_p.dropna(axis='columns', how='all') \n",
    "#df_lr_sit = ss.createDataFrame(df_lr_p)\n",
    "#df_lr_sit.registerTempTable(\"df_lr_sit\")\n",
    "#print(\"HO Low Raio Loan Level Base Data row count: \", df_lr_p.count())\n",
    "print(\"Dataframe creation for HO Low Raio Loan Level Base Data completed at: \", str(datetime.now()))"
   ]
  },
  {
   "cell_type": "markdown",
   "metadata": {
    "application/vnd.databricks.v1+cell": {
     "cellMetadata": {
      "byteLimit": 2048000,
      "rowLimit": 10000
     },
     "inputWidgets": {},
     "nuid": "eca96cbe-47b1-4908-bb6b-ed23194efd2c",
     "showTitle": false,
     "title": ""
    }
   },
   "source": [
    "distinct_count = df_lr_p[\"PARENT_LENDER\"].nunique()\n",
    "\n",
    "print(\"Distinct count:\", distinct_count)"
   ]
  },
  {
   "cell_type": "code",
   "execution_count": 0,
   "metadata": {
    "application/vnd.databricks.v1+cell": {
     "cellMetadata": {
      "byteLimit": 2048000,
      "rowLimit": 10000
     },
     "inputWidgets": {},
     "nuid": "b79748b4-a1f0-474e-bed0-152f93df4df8",
     "showTitle": false,
     "title": ""
    }
   },
   "outputs": [],
   "source": [
    "#Remove specialt charaters from Contact name and Original Rep fields\n",
    "df_lr_p = df_lr_p.replace({\"Contact_nm\":{\"-\":\"\", \"'\":\"\"}, 'Original_Rep':{\"-\":\"\", \"'\":\"\"}})\n",
    "\n",
    "#Remove space in the Original Rep columns for the joining steps\n",
    "#df_lr_p['Original_Rep'] = df_lr_p['Original_Rep'].replace(['-', ' '], '', regex=True).str.upper()"
   ]
  },
  {
   "cell_type": "code",
   "execution_count": 0,
   "metadata": {
    "application/vnd.databricks.v1+cell": {
     "cellMetadata": {
      "byteLimit": 2048000,
      "rowLimit": 10000
     },
     "inputWidgets": {},
     "nuid": "0128b071-46cb-4091-933e-aed6677f1ba3",
     "showTitle": false,
     "title": ""
    }
   },
   "outputs": [],
   "source": [
    "#Create 6 new columns with different reordered Contact_nm words to match with BNS Name List\n",
    "df_lr_p['Contact_1'] = df_lr_p['contact_nm'].astype(str).str.split().str[0].fillna('') + df_lr_p['contact_nm'].astype(str).str.split().str[1].fillna('') + df_lr_p['contact_nm'].astype(str).str.split().str[2].fillna('')\n",
    "df_lr_p['Contact_2'] = df_lr_p['contact_nm'].astype(str).str.split().str[0].fillna('') + df_lr_p['contact_nm'].astype(str).str.split().str[2].fillna('') + df_lr_p['contact_nm'].astype(str).str.split().str[1].fillna('')\n",
    "df_lr_p['Contact_3'] = df_lr_p['contact_nm'].astype(str).str.split().str[1].fillna('') + df_lr_p['contact_nm'].astype(str).str.split().str[0].fillna('') + df_lr_p['contact_nm'].astype(str).str.split().str[2].fillna('')\n",
    "df_lr_p['Contact_4'] = df_lr_p['contact_nm'].astype(str).str.split().str[1].fillna('') + df_lr_p['contact_nm'].astype(str).str.split().str[2].fillna('') + df_lr_p['contact_nm'].astype(str).str.split().str[0].fillna('')\n",
    "df_lr_p['Contact_5'] = df_lr_p['contact_nm'].astype(str).str.split().str[2].fillna('') + df_lr_p['contact_nm'].astype(str).str.split().str[1].fillna('') + df_lr_p['contact_nm'].astype(str).str.split().str[0].fillna('')\n",
    "df_lr_p['Contact_6'] = df_lr_p['contact_nm'].astype(str).str.split().str[2].fillna('') + df_lr_p['contact_nm'].astype(str).str.split().str[0].fillna('') + df_lr_p['contact_nm'].astype(str).str.split().str[1].fillna('')\n",
    "\n",
    "#Create 6 new columns with different reordered Original Rep words to match with BNS Name List\n",
    "df_lr_p['Rep_1'] = df_lr_p['Original_Rep'].astype(str).str.split().str[0].fillna('') + df_lr_p['Original_Rep'].astype(str).str.split().str[1].fillna('') + df_lr_p['Original_Rep'].astype(str).str.split().str[2].fillna('')\n",
    "df_lr_p['Rep_2'] = df_lr_p['Original_Rep'].astype(str).str.split().str[0].fillna('') + df_lr_p['Original_Rep'].astype(str).str.split().str[2].fillna('') + df_lr_p['Original_Rep'].astype(str).str.split().str[1].fillna('')\n",
    "df_lr_p['Rep_3'] = df_lr_p['Original_Rep'].astype(str).str.split().str[1].fillna('') + df_lr_p['Original_Rep'].astype(str).str.split().str[0].fillna('') + df_lr_p['Original_Rep'].astype(str).str.split().str[2].fillna('')\n",
    "df_lr_p['Rep_4'] = df_lr_p['Original_Rep'].astype(str).str.split().str[1].fillna('') + df_lr_p['Original_Rep'].astype(str).str.split().str[2].fillna('') + df_lr_p['Original_Rep'].astype(str).str.split().str[0].fillna('')\n",
    "df_lr_p['Rep_5'] = df_lr_p['Original_Rep'].astype(str).str.split().str[2].fillna('') + df_lr_p['Original_Rep'].astype(str).str.split().str[1].fillna('') + df_lr_p['Original_Rep'].astype(str).str.split().str[0].fillna('')\n",
    "df_lr_p['Rep_6'] = df_lr_p['Original_Rep'].astype(str).str.split().str[2].fillna('') + df_lr_p['Original_Rep'].astype(str).str.split().str[0].fillna('') + df_lr_p['Original_Rep'].astype(str).str.split().str[1].fillna('')\n",
    "\n"
   ]
  },
  {
   "cell_type": "code",
   "execution_count": 0,
   "metadata": {
    "application/vnd.databricks.v1+cell": {
     "cellMetadata": {
      "byteLimit": 2048000,
      "rowLimit": 10000
     },
     "inputWidgets": {},
     "nuid": "c8902fd1-fcc4-4000-b264-7aa402cf0430",
     "showTitle": false,
     "title": ""
    }
   },
   "outputs": [],
   "source": [
    "#df_lr_p.columns.duplicated()"
   ]
  },
  {
   "cell_type": "code",
   "execution_count": 0,
   "metadata": {
    "application/vnd.databricks.v1+cell": {
     "cellMetadata": {
      "byteLimit": 2048000,
      "rowLimit": 10000
     },
     "inputWidgets": {},
     "nuid": "57f3ee2e-d33d-4af5-b6b7-8d0632770165",
     "showTitle": false,
     "title": ""
    }
   },
   "outputs": [
    {
     "output_type": "stream",
     "name": "stdout",
     "output_type": "stream",
     "text": [
      "Table creation for Low Ratio Base Data with Updated Contact Name completed at:  2024-09-06 18:31:25.477090\n"
     ]
    }
   ],
   "source": [
    "df_lr_sit = ss.createDataFrame(df_lr_p) \n",
    "df_lr_sit.createOrReplaceTempView(\"df_lr_sit\")\n",
    "#print(\"Low Ratio Loan Level Base Data with Updated Contact Name row count: \", df_lr_sit.count())\n",
    "print(\"Table creation for Low Ratio Base Data with Updated Contact Name completed at: \", str(datetime.now()))"
   ]
  },
  {
   "cell_type": "code",
   "execution_count": 0,
   "metadata": {
    "application/vnd.databricks.v1+cell": {
     "cellMetadata": {
      "byteLimit": 2048000,
      "rowLimit": 10000
     },
     "inputWidgets": {},
     "nuid": "e629ce7c-fc28-4932-804d-3ea8b7bfffe5",
     "showTitle": false,
     "title": ""
    }
   },
   "outputs": [],
   "source": [
    "#Read the BNS Name List Excel File and save as dataframe\n",
    "from pyspark.sql.functions import trim\n",
    "bns = pd.read_excel('BNS Name List Last Update.xlsx', dtype = {'INACTIVE_DATE_LASTUPDATE': str}).astype(str)\n",
    "bns['LENDER_CHANNEL_LASTUPDATE'] = bns['LENDER_CHANNEL_LASTUPDATE'].replace(' ', '', regex=True)\n",
    "#bns['EFFECTIVE_DATE_LASTUPDATE'] = pd.to_datetime(bns['EFFECTIVE_DATE_LASTUPDATE'], yearfirst=True)\n",
    "#bns['INACTIVE_DATE_LASTUPDATE'] = pd.to_datetime(bns['INACTIVE_DATE_LASTUPDATE'], yearfirst=True)\n",
    "df_bns = ss.createDataFrame(bns)\n",
    "df_bns = df_bns.withColumn(\"LENDER_CHANNEL_LASTUPDATE\", trim(df_bns.LENDER_CHANNEL_LASTUPDATE))\n",
    "df_bns.createOrReplaceTempView(\"df_bns\")\n",
    "\n",
    "#Read the HFS Name List Excel File and save as dataframe\n",
    "hfs = pd.read_excel('HFS Name List Last Update.xlsx', dtype = {'INACTIVE_DATE_LASTUPDATE': str,\n",
    "                                                              'EFFECTIVE_DATE_LASTUPDATE': str}).astype(str)\n",
    "#hfs['EFFECTIVE_DATE_LASTUPDATE'] = pd.to_datetime(hfs['EFFECTIVE_DATE_LASTUPDATE'], yearfirst=True)\n",
    "#hfs['INACTIVE_DATE_LASTUPDATE'] = pd.to_datetime(hfs['INACTIVE_DATE_LASTUPDATE'], yearfirst=True)\n",
    "df_hfs = ss.createDataFrame(hfs)\n",
    "df_hfs.createOrReplaceTempView(\"df_hfs\")"
   ]
  },
  {
   "cell_type": "code",
   "execution_count": 0,
   "metadata": {
    "application/vnd.databricks.v1+cell": {
     "cellMetadata": {
      "byteLimit": 2048000,
      "rowLimit": 10000
     },
     "inputWidgets": {},
     "nuid": "19b43bbd-a21d-4a2e-8be8-74d5975dda1b",
     "showTitle": false,
     "title": ""
    }
   },
   "outputs": [
    {
     "output_type": "stream",
     "name": "stdout",
     "output_type": "stream",
     "text": [
      "Merged with BNS Employee List Dataframe creation completed at:  2024-09-06 18:31:26.997979\n"
     ]
    },
    {
     "output_type": "stream",
     "name": "stderr",
     "output_type": "stream",
     "text": [
      "/databricks/spark/python/pyspark/sql/dataframe.py:334: FutureWarning: Deprecated in 2.0, use createOrReplaceTempView instead.\n  warnings.warn(\"Deprecated in 2.0, use createOrReplaceTempView instead.\", FutureWarning)\n"
     ]
    }
   ],
   "source": [
    "#Merge Base Data with BNS Employee Name List with VP, Sales Manager info\n",
    "sql_a = \"\"\"\n",
    "select t1.*,\n",
    "t2.EMPLOYEENO_LASTUPDATE as RU_EMPLOYEENO, \n",
    "t2.NAME_LASTUPDATE as RU_NAME1, \n",
    "t2.LENDER_CHANNEL_LASTUPDATE as bns_lender_channel, \n",
    "t2.EFFECTIVE_DATE_LASTUPDATE as RU_Effectivedt, \n",
    "t2.INACTIVE_DATE_LASTUPDATE as RU_Inactivedt, \n",
    "t2.REGIONAL_VP_LASTUPDATE as RU_VP, \n",
    "t2.PROVINCE_LASTUPDATE as RU_Province, \n",
    "case when t2.EMPLOYEENO_LASTUPDATE is null then 0 else 1 \n",
    "end as bnsnamelistmatch_ind,\n",
    "CASE\n",
    "   WHEN t1.transit_id IN ('01339', '13151', '27912','78386') THEN 'MOSE'\n",
    "   WHEN t1.transit_id IN ('85712') THEN\n",
    "                  CASE WHEN business_source_identification_desc_en = 'BROKER' THEN 'MOSE' \n",
    "                       WHEN business_source_identification_desc_en = 'MORTGAGE SPECIALIST' \n",
    "                       AND t2.LENDER_CHANNEL_LASTUPDATE = 'MOSE' THEN 'MOSE' \n",
    "                  ELSE 'HFLM' \n",
    "                  END\n",
    "    WHEN t1.transit_id IN ('77966') THEN \n",
    "        CASE WHEN business_source_identification_desc_en = 'MORTGAGE SPECIALIST' THEN 'MOSE'\n",
    "             WHEN business_source_identification_desc_en NOT IN ('MORTGAGE SPECIALIST') THEN \n",
    "                 CASE WHEN t2.LENDER_CHANNEL_LASTUPDATE = 'BRM' THEN 'BRM'\n",
    "                 ELSE 'MOSE'\n",
    "                 END\n",
    "        END\n",
    "    WHEN t1.transit_id NOT IN ('77966','85712','01339', '13151', '27912','78386') THEN 'BRANCH'\n",
    "END \n",
    "AS lenderchannel\n",
    "from df_lr_sit t1 left join df_bns t2 on \n",
    "((trim(t1.Contact_1) = trim(t2.NAME_LASTUPDATE) or (T2.NAME2_LASTUPDATE IS NOT NULL AND trim(t1.Contact_1) = trim(t2.NAME2_LASTUPDATE)))\n",
    "and (t1.received_date >= t2.effective_date_lastupdate and (t1.received_date < t2.INACTIVE_DATE_LASTUPDATE OR t2.inactive_date_lastupdate is null))\n",
    ") \n",
    "or \n",
    "((trim(t1.Contact_2) = trim(t2.NAME_LASTUPDATE) or (T2.NAME2_LASTUPDATE IS NOT NULL AND trim(t1.Contact_2) = trim(t2.NAME2_LASTUPDATE)))\n",
    "and (t1.received_date >= t2.effective_date_lastupdate and (t1.received_date < t2.INACTIVE_DATE_LASTUPDATE OR t2.inactive_date_lastupdate is null))\n",
    ") \n",
    "or \n",
    "((trim(t1.Contact_3) = trim(t2.NAME_LASTUPDATE) or (T2.NAME2_LASTUPDATE IS NOT NULL AND trim(t1.Contact_3) = trim(t2.NAME2_LASTUPDATE)))\n",
    "and (t1.received_date >= t2.effective_date_lastupdate and (t1.received_date < t2.INACTIVE_DATE_LASTUPDATE OR t2.inactive_date_lastupdate is null))\n",
    ") \n",
    "or \n",
    "((trim(t1.Contact_4) = trim(t2.NAME_LASTUPDATE) or (T2.NAME2_LASTUPDATE IS NOT NULL AND trim(t1.Contact_4) = trim(t2.NAME2_LASTUPDATE)))\n",
    "and (t1.received_date >= t2.effective_date_lastupdate and (t1.received_date < t2.INACTIVE_DATE_LASTUPDATE OR t2.inactive_date_lastupdate is null))\n",
    ") or \n",
    "((trim(t1.Contact_5) = trim(t2.NAME_LASTUPDATE) or (T2.NAME2_LASTUPDATE IS NOT NULL AND trim(t1.Contact_5) = trim(t2.NAME2_LASTUPDATE)))\n",
    "and (t1.received_date >= t2.effective_date_lastupdate and (t1.received_date < t2.INACTIVE_DATE_LASTUPDATE OR t2.inactive_date_lastupdate is null))\n",
    ") or \n",
    "((trim(t1.Contact_6) = trim(t2.NAME_LASTUPDATE) or (T2.NAME2_LASTUPDATE IS NOT NULL AND trim(t1.Contact_6) = trim(t2.NAME2_LASTUPDATE)))\n",
    "and (t1.received_date >= t2.effective_date_lastupdate and (t1.received_date < t2.INACTIVE_DATE_LASTUPDATE OR t2.inactive_date_lastupdate is null))\n",
    ") \n",
    "\"\"\"\n",
    "\n",
    "df_base_bns = ss.sql(sql_a)\n",
    "df_base_bns.registerTempTable(\"df_base_bns\")\n",
    "#print(\"Merged with BNS Employee List table row count: \", df_base_bns.count())\n",
    "print(\"Merged with BNS Employee List Dataframe creation completed at: \", str(datetime.now()))"
   ]
  },
  {
   "cell_type": "code",
   "execution_count": 0,
   "metadata": {
    "application/vnd.databricks.v1+cell": {
     "cellMetadata": {
      "byteLimit": 2048000,
      "rowLimit": 10000
     },
     "inputWidgets": {},
     "nuid": "320d8dc9-ff43-4d5a-a023-47993d67dac9",
     "showTitle": false,
     "title": ""
    }
   },
   "outputs": [
    {
     "output_type": "stream",
     "name": "stdout",
     "output_type": "stream",
     "text": [
      "Merged with HFS Employee List Dataframe creation completed at:  2024-09-06 18:31:27.180812\n"
     ]
    },
    {
     "output_type": "stream",
     "name": "stderr",
     "output_type": "stream",
     "text": [
      "/databricks/spark/python/pyspark/sql/dataframe.py:334: FutureWarning: Deprecated in 2.0, use createOrReplaceTempView instead.\n  warnings.warn(\"Deprecated in 2.0, use createOrReplaceTempView instead.\", FutureWarning)\n"
     ]
    }
   ],
   "source": [
    "#Merge Previous Datafram with HFS home finance sales Employee Name List with VP, Sales Manager info.\n",
    "sql_b = \"\"\"\n",
    "select t1.cmhc_loan_account_nbr,\n",
    "t2.EMPLOYEENO_LASTUPDATE as HFS_EMPLOYEENO, \n",
    "t2.NAME_LASTUPDATE as HFS_NAME1, \n",
    "t2.NAME2_LASTUPDATE as HFS_NAME2,\n",
    "t2.ROLE_LASTUPDATE as HFS_ROLE, \n",
    "t2.EFFECTIVE_DATE_LASTUPDATE as HFS_Effectivedt, \n",
    "t2.INACTIVE_DATE_LASTUPDATE as HFS_Inactivedt, \n",
    "t2.SUPERVISOR_LASTUPDATE as HFS_Supervisor, \n",
    "t2.PROVINCE_LASTUPDATE as HFS_Province,  \n",
    "t2.ROLE_LASTUPDATE, \n",
    "t3.SUPERVISOR_LASTUPDATE as HFS_VP,\n",
    "case when t2.NAME_LASTUPDATE is not null then 1 else 0\n",
    "end as hfsnamematch_ind,\n",
    "case when t3.NAME_LASTUPDATE is not null then 1 else 0\n",
    "end as vphfsnamematch_ind\n",
    "from df_lr_sit t1 left join df_hfs t2 on \n",
    "((trim(t1.Rep_1) = trim(t2.NAME_LASTUPDATE) or (T2.NAME2_LASTUPDATE IS NOT NULL AND trim(t1.Rep_1) = trim(t2.NAME2_LASTUPDATE)))\n",
    "and (t1.received_date >= t2.effective_date_lastupdate and (t1.received_date < t2.INACTIVE_DATE_LASTUPDATE OR t2.inactive_date_lastupdate is null))\n",
    ") \n",
    "or \n",
    "((trim(t1.Rep_2) = trim(t2.NAME_LASTUPDATE) or (T2.NAME2_LASTUPDATE IS NOT NULL AND trim(t1.Rep_2) = trim(t2.NAME2_LASTUPDATE)))\n",
    "and (t1.received_date >= t2.effective_date_lastupdate and (t1.received_date < t2.INACTIVE_DATE_LASTUPDATE OR t2.inactive_date_lastupdate is null))\n",
    ") \n",
    "or \n",
    "((trim(t1.Rep_3) = trim(t2.NAME_LASTUPDATE) or (T2.NAME2_LASTUPDATE IS NOT NULL AND trim(t1.Rep_3) = trim(t2.NAME2_LASTUPDATE)))\n",
    "and (t1.received_date >= t2.effective_date_lastupdate and (t1.received_date < t2.INACTIVE_DATE_LASTUPDATE OR t2.inactive_date_lastupdate is null))\n",
    ") \n",
    "or \n",
    "((trim(t1.Rep_4) = trim(t2.NAME_LASTUPDATE) or (T2.NAME2_LASTUPDATE IS NOT NULL AND trim(t1.Rep_4) = trim(t2.NAME2_LASTUPDATE)))\n",
    "and (t1.received_date >= t2.effective_date_lastupdate and (t1.received_date < t2.INACTIVE_DATE_LASTUPDATE OR t2.inactive_date_lastupdate is null))\n",
    ") or \n",
    "((trim(t1.Rep_5) = trim(t2.NAME_LASTUPDATE) or (T2.NAME2_LASTUPDATE IS NOT NULL AND trim(t1.Rep_5) = trim(t2.NAME2_LASTUPDATE)))\n",
    "and (t1.received_date >= t2.effective_date_lastupdate and (t1.received_date < t2.INACTIVE_DATE_LASTUPDATE OR t2.inactive_date_lastupdate is null))\n",
    ") or \n",
    "((trim(t1.Rep_6) = trim(t2.NAME_LASTUPDATE) or (T2.NAME2_LASTUPDATE IS NOT NULL AND trim(t1.Rep_6) = trim(t2.NAME2_LASTUPDATE)))\n",
    "and (t1.received_date >= t2.effective_date_lastupdate and (t1.received_date < t2.INACTIVE_DATE_LASTUPDATE OR t2.inactive_date_lastupdate is null))\n",
    ") \n",
    "left join df_hfs t3  \n",
    "ON (trim(t2.SUPERVISOR_LASTUPDATE) = trim(t3.NAME_LASTUPDATE) or \n",
    "(trim(T3.NAME2_LASTUPDATE) IS NOT NULL AND trim(t2.SUPERVISOR_LASTUPDATE) = trim(t3.NAME2_LASTUPDATE))) \n",
    "AND\n",
    "(t1.received_date >= t3.effective_date_lastupdate and \n",
    "(t1.received_date < t3.INACTIVE_DATE_LASTUPDATE OR t3.inactive_date_lastupdate is NULL))\n",
    "\"\"\"\n",
    "\n",
    "df_base_hfs = ss.sql(sql_b)\n",
    "df_base_hfs.registerTempTable(\"df_base_hfs\")\n",
    "#print(\"Merged with HFS Employee List table row count: \", df_base_hfs.count())\n",
    "print(\"Merged with HFS Employee List Dataframe creation completed at: \", str(datetime.now()))"
   ]
  },
  {
   "cell_type": "code",
   "execution_count": 0,
   "metadata": {
    "application/vnd.databricks.v1+cell": {
     "cellMetadata": {
      "byteLimit": 2048000,
      "rowLimit": 10000
     },
     "inputWidgets": {},
     "nuid": "81e5fcc9-febe-4acf-9d8a-2b795089dd78",
     "showTitle": false,
     "title": ""
    }
   },
   "outputs": [
    {
     "output_type": "stream",
     "name": "stdout",
     "output_type": "stream",
     "text": [
      "Low Ratio Table with BNS and HFS Employee List dataframe creation completed at:  2024-09-06 18:31:27.391808\n"
     ]
    },
    {
     "output_type": "stream",
     "name": "stderr",
     "output_type": "stream",
     "text": [
      "/databricks/spark/python/pyspark/sql/dataframe.py:334: FutureWarning: Deprecated in 2.0, use createOrReplaceTempView instead.\n  warnings.warn(\"Deprecated in 2.0, use createOrReplaceTempView instead.\", FutureWarning)\n"
     ]
    }
   ],
   "source": [
    "#Merge BNS and HFS Name List together\n",
    "sql_c = \"\"\"\n",
    "select t1.*,\n",
    "t2.HFS_EMPLOYEENO, \n",
    "t2.HFS_NAME1, \n",
    "t2.HFS_NAME2,\n",
    "t2.HFS_ROLE, \n",
    "t2.HFS_Effectivedt, \n",
    "t2.HFS_Inactivedt, \n",
    "t2.HFS_Supervisor, \n",
    "t2.HFS_Province,  \n",
    "t2.ROLE_LASTUPDATE as HFS_ROLE_LASTUPDATE, \n",
    "t2.HFS_VP\n",
    "from df_base_bns t1 left join df_base_hfs t2\n",
    "on t1.cmhc_loan_account_nbr = t2.cmhc_loan_account_nbr\n",
    "\"\"\"\n",
    "\n",
    "df_lr_all = ss.sql(sql_c)\n",
    "#Drop the 6 newly created contact name and Original Rep columns\n",
    "df_lr_all.drop(\"Contact_1\", \"Contact_2\", \"Contact_3\",\"Contact_4\",\"Contact_5\",\"Contact_6\", \\\n",
    "               \"Rep_1\", \"Rep_2\", \"Rep_3\", \"Rep_4\", \"Rep_5\", \"Rep_6\")\n",
    "df_lr_all.registerTempTable(\"df_lr_all\")\n",
    "#print(\"Low Ratio table with BNS and HFS Employee List table row count: \", df_lr_all.count())\n",
    "print(\"Low Ratio Table with BNS and HFS Employee List dataframe creation completed at: \", str(datetime.now()))"
   ]
  },
  {
   "cell_type": "code",
   "execution_count": 0,
   "metadata": {
    "application/vnd.databricks.v1+cell": {
     "cellMetadata": {
      "byteLimit": 2048000,
      "rowLimit": 10000
     },
     "inputWidgets": {},
     "nuid": "4fda4c13-fb09-4eb9-8eae-7477f4eb9da3",
     "showTitle": false,
     "title": ""
    }
   },
   "outputs": [
    {
     "output_type": "stream",
     "name": "stderr",
     "output_type": "stream",
     "text": [
      "/databricks/spark/python/pyspark/sql/dataframe.py:334: FutureWarning: Deprecated in 2.0, use createOrReplaceTempView instead.\n  warnings.warn(\"Deprecated in 2.0, use createOrReplaceTempView instead.\", FutureWarning)\n"
     ]
    },
    {
     "output_type": "stream",
     "name": "stdout",
     "output_type": "stream",
     "text": [
      "Low Raio Table with Channel, Source, BNS Contact creation completed at:  2024-09-06 18:31:27.601806\n"
     ]
    }
   ],
   "source": [
    "#Calculate Lender Source, BNS/Desjardins channel and BNS Key Contact (sales manager, VP) \n",
    "sql_d = \"\"\"\n",
    "select \n",
    "*,\n",
    "case when parent_level1_lender_cde=\"60002\" then \n",
    "    (Case\n",
    "    when lenderchannel=\"MOSE\" and hfs_role is NULL THEN \"BROKER\" \n",
    "    when lenderchannel IN (\"BRANCH\", \"HFLM\", \"BRM\") THEN \"\"\n",
    "    ELSE \"HFA\"\n",
    "    end) \n",
    "end as MOSE_CHANNEL,\n",
    "\n",
    "CASE WHEN parent_level1_lender_cde=\"60002\" THEN \n",
    "(CASE WHEN lenderchannel=\"MOSE\" and hfs_role is NULL then \"MOSE\" \n",
    "ELSE lenderchannel\n",
    "END)\n",
    "WHEN parent_level1_lender_cde=\"60001\" THEN\n",
    "(CASE WHEN transit_id IN (\"35532\", \"03553\") THEN \"MORTGAGE SPECIALIST\"\n",
    "ELSE \"BRANCH\"\n",
    "END)\n",
    "WHEN parent_level1_lender_cde=\"20024\" THEN\n",
    "(CASE WHEN business_source_identification_desc_en=\"MORTGAGE SPECIALIST\" THEN \"MORTGAGE SPECIALIST\" \n",
    "ELSE \"BRANCH\"\n",
    "END) \n",
    "WHEN parent_level1_lender_cde=\"60003\" THEN\n",
    "(CASE WHEN business_source_identification_desc_en=\"MORTGAGE SPECIALIST\" THEN \"MORTGAGE SPECIALIST\" \n",
    "ELSE \"BRANCH\"\n",
    "END)\n",
    "WHEN parent_level1_lender_cde=\"60004\" THEN\n",
    "(case \n",
    "when transit_id in ('27892','28072','28472','28592','28662','28672') then \"MORTGAGE SPECIALIST\"\n",
    "when transit_id in (\"73902\", \"91912\") then \"BROKER\" else \"BRANCH\" \n",
    "END)\n",
    "/*\n",
    "WHEN parent_level1_lender_cde=\"49020\" then \n",
    "(case \n",
    "when trim(TELEPHONE) ='5143764420' AND trim(business_source_identification_cde) ='13' THEN 'SPÉCIALISTE HYPOTHÉCAIRE'\n",
    "when trim(TELEPHONE) ='5143764420' AND trim(business_source_identification_cde) ='04' THEN 'COURTIER'\n",
    "ELSE \"SUCCURSALE\" \n",
    "END)\n",
    "\n",
    "WHEN (parent_level1_lender_cde=\"90032\" AND trim(transit_id) IN (\"99048\", \"99051\")) THEN \"RMG\" \n",
    "WHEN (parent_level1_lender_cde=\"90032\" AND trim(transit_id) not IN (\"99048\", \"99051\")) THEN \"MCAP\"\n",
    "*/\n",
    "WHEN parent_level1_lender_cde IN (\"90040\", \"90045\", \"90024\", \"90025\", \"20042\", \"30006\",\"30106\", \"90049\", \"90044\", \"30085\", \"90043\", \"90050\") \n",
    "THEN \"BROKER\"\n",
    "\n",
    "WHEN parent_level1_lender_cde NOT IN (\"60001\", \"60002\", \"60004\", \"49020\", \"90032\") \n",
    "AND trim(business_source_identification_desc_en) not in (\"BROKER\", \"MORTGAGE SPECIALIST\", \"BRANCH\") \n",
    "then \"BRANCH\" \n",
    "else business_source_identification_desc_en\n",
    "END AS SOURCE\n",
    "from df_lr_all\n",
    " \"\"\"\n",
    "\n",
    "df_lr_1 = ss.sql(sql_d)\n",
    "df_lr_1.registerTempTable(\"df_lr_1\")\n",
    "\n",
    "\n",
    "#Calculate CMHC Source based on calculated Source Channel\n",
    "sql_e = \"\"\"\n",
    "select *,\n",
    "CASE WHEN SOURCE IN (\"COURTIER\",\"BROKER\", \"RMG\", \"MCAP\", \"BRM\") THEN \"BROKER\"\n",
    "WHEN SOURCE = \"MOSE\" AND MOSE_CHANNEL=\"BROKER\" THEN \"BROKER\"\n",
    "WHEN SOURCE = \"MOSE\" AND MOSE_CHANNEL=\"HFA\" THEN \"MORTGAGE SPECIALIST\"\n",
    "WHEN SOURCE IN (\"BRANCH\", \"SUCCURSALE\") THEN \"BRANCH\"\n",
    "ELSE \"MORTGAGE SPECIALIST\" \n",
    "END AS CMHC_SOURCE\n",
    "from df_lr_1\n",
    " \"\"\"\n",
    "\n",
    "df_lr_2 = ss.sql(sql_e)\n",
    "#df_lr_2.registerTempTable(\"df_lr_2\")\n",
    "#df_lr_2.write.mode(\"overwrite\").format(\"orc\").saveAsTable(\"sb_rmo_ho_reporting.test_lender_dashboard\")\n",
    "#print(\"Low Raio Table with Channel, Source, BNS Contact row count: \", df_lr_2.count())\n",
    "print(\"Low Raio Table with Channel, Source, BNS Contact creation completed at: \", str(datetime.now()))"
   ]
  },
  {
   "cell_type": "code",
   "execution_count": 0,
   "metadata": {
    "application/vnd.databricks.v1+cell": {
     "cellMetadata": {
      "byteLimit": 2048000,
      "rowLimit": 10000
     },
     "inputWidgets": {},
     "nuid": "78685204-1eb1-4a1c-adc8-2ab03370ccea",
     "showTitle": false,
     "title": ""
    }
   },
   "outputs": [
    {
     "output_type": "stream",
     "name": "stderr",
     "output_type": "stream",
     "text": [
      "/databricks/spark/python/pyspark/sql/dataframe.py:334: FutureWarning: Deprecated in 2.0, use createOrReplaceTempView instead.\n  warnings.warn(\"Deprecated in 2.0, use createOrReplaceTempView instead.\", FutureWarning)\n"
     ]
    },
    {
     "output_type": "stream",
     "name": "stdout",
     "output_type": "stream",
     "text": [
      "Low Raio Application Message with PVII Appraisal dataframe creation completed at:  2024-09-06 18:31:28.693203\n"
     ]
    }
   ],
   "source": [
    "#Calculate Low Ratio Application Messages in Last Risking - Appraisal Ruquest, PVII\n",
    "vwdw_application_message_dim = pd.read_excel('vwdw_application_message_dim.xlsx').astype(str)\n",
    "dfm = ss.createDataFrame(vwdw_application_message_dim)\n",
    "dfm.registerTempTable(\"vwdw_application_message_dim\")\n",
    "\n",
    "sql_f = \"\"\"\n",
    "SELECT DISTINCT\n",
    "lad.cmhc_loan_account_nbr,\n",
    "\n",
    "case \n",
    "    when trim(mess.application_message_cde) IN ('298', '1203', '1207') then 'PVII Eligible'\n",
    "else 'PVII Ineligible' end as PVII_last_risking,\n",
    "emili.gvs_elg_ind as GVS_ind,\n",
    "\n",
    "case \n",
    "    when lft.parent_level1_lender_cde=\"60002\" and trim(mess.application_message_cde) ='1031' then \"No Appraisal Required\" \n",
    "    when lft.parent_level1_lender_cde=\"60002\" and trim(mess.application_message_cde) in ('1032','1033')  \n",
    "    then \"Full Appraisal Required\"\n",
    "    when lft.parent_level1_lender_cde=\"49020\" and trim(mess.application_message_cde) in ('703','706')  \n",
    "    then \"No Appraisal Required\" \n",
    "    when lft.parent_level1_lender_cde=\"49020\" and trim(mess.application_message_cde) in ('705','708','709','710','711')  \n",
    "    then \"Appraisal Required\"\n",
    "    when lft.parent_level1_lender_cde=\"49020\" and trim(mess.application_message_cde) in ('704') then \"Mortgage Insurance\" \n",
    "    when lft.parent_level1_lender_cde=\"60001\" and trim(mess.application_message_cde) in ('1020')  then \"No Appraisal Required\" \n",
    "    when lft.parent_level1_lender_cde=\"60001\" and trim(mess.application_message_cde) in ('1021')  then \"Appraisal Required\"\n",
    "    when lft.parent_level1_lender_cde=\"60003\" and trim(mess.application_message_cde) ='1001' then \"No Appraisal Required\" \n",
    "else \"No Code\" end as appraisal\n",
    "\n",
    "from cmwdw_insurance.vwdw_loan_account_dim lad\n",
    "\n",
    "Left Join ds_ins_risk.ins_risk_last emili\n",
    "    on lad.cmhc_loan_account_nbr=emili.lnacctno\n",
    "INNER JOIN cmwdw_insurance.vwdw_loan_account_sum LAS\n",
    "    ON (lad.loan_account_surrkey=las.loan_account_surrkey)\n",
    "INNER JOIN cmwdw_insurance.vwdw_COSTABLE_UNIT_DIM CUD\n",
    "    ON (las.costable_unit_surrkey=CUD.costable_unit_surrkey)\n",
    "INNER JOIN cmwdw_insurance.vwdw_lender_financial_trnst_dim lfT \n",
    "    ON (las.initiation_lender_financial_transit_surrkey = lfT.lender_financial_transit_surrkey) \n",
    "INNER JOIN \n",
    "    (\n",
    "    select distinct t2.cmhc_loan_account_nbr, t1.application_message_cde\n",
    "    from cmwdw_insurance.tbdw_tgt_application_message_transaction_fact t2\n",
    "    inner join vwdw_application_message_dim t1  \n",
    "    on t1.application_message_surrkey = t2.application_message_surrkey\n",
    "        inner join\n",
    "            (\n",
    "            select distinct \n",
    "                cmhc_loan_account_nbr,\n",
    "                max(application_identifier_ts) as max_ts \n",
    "                from cmwdw_insurance.tbdw_tgt_application_message_transaction_fact t3\n",
    "                inner join vwdw_application_message_dim t4\n",
    "                    on t3.application_message_surrkey = t4.application_message_surrkey\n",
    "                    where t4.application_message_tcd not in ('2', '3', '4') and t4.application_message_cde not in ('115')\n",
    "                    group by cmhc_loan_account_nbr\n",
    "                    order by cmhc_loan_account_nbr) as max\n",
    "                on max.cmhc_loan_account_nbr = t2.cmhc_loan_account_nbr and max.max_ts = t2.application_identifier_ts\n",
    "                where t1.application_message_cde IN ('298', '299', '1207', '1020', '1021', '1031', '1032', '1033', '703','704','706','705','708','709','710','711','1201','1202','1203', '1001')\n",
    "                ) as mess\n",
    "on mess.cmhc_loan_account_nbr = lad.cmhc_loan_account_nbr\n",
    "\n",
    "WHERE\n",
    "lad.application_received_system_dt >='2020-01-01'\n",
    "and cud.insurance_product_group_cde = '100' \n",
    "and lad.low_ratio_ever_ind=1 /*   should it to be  lad.low_ratio_mortgage_tcd in ('01','02')    */\n",
    "\"\"\"\n",
    "\n",
    "mess = ss.sql(sql_f.format(a.get('CURRENT_YTD_BEG'), a.get('CURRENT_YTD_END'), a.get('PRIOR_YTD_BEG'), a.get('PRIOR_YTD_END'), a.get('PRIOR_YTD')))\n",
    "#mess.registerTempTable(\"mess\")\n",
    "#print(\"Low Raio Application Message with PVII Appraisal row count: \", mess.count())\n",
    "print(\"Low Raio Application Message with PVII Appraisal dataframe creation completed at: \", str(datetime.now()))"
   ]
  },
  {
   "cell_type": "code",
   "execution_count": 0,
   "metadata": {
    "application/vnd.databricks.v1+cell": {
     "cellMetadata": {
      "byteLimit": 2048000,
      "rowLimit": 10000
     },
     "inputWidgets": {},
     "nuid": "7145291e-4b1d-4045-a922-7cea4cb66509",
     "showTitle": false,
     "title": ""
    }
   },
   "outputs": [
    {
     "output_type": "stream",
     "name": "stdout",
     "output_type": "stream",
     "text": [
      "Low Raio Final Data with PVII Appraisal table creation completed at:  2024-09-06 18:34:38.797030\n"
     ]
    }
   ],
   "source": [
    "#Join Application messages with Low Ratio base data and save table in Sandbox\n",
    "mess_2 = mess.withColumnRenamed(\"cmhc_loan_account_nbr\",\"cmhc_loan_account_nbr_2\")\n",
    "\n",
    "df_result = df_lr_2.join(mess_2, df_lr_2.cmhc_loan_account_nbr == mess_2.cmhc_loan_account_nbr_2,how='left')\n",
    "\n",
    "df_result.write.mode(\"overwrite\").format(\"orc\").saveAsTable(\"sb_rmo_ho_reporting.lender_dashboard_low_ratio\")\n",
    "\n",
    "print(\"Low Raio Final Data with PVII Appraisal table creation completed at: \", str(datetime.now()))"
   ]
  },
  {
   "cell_type": "code",
   "execution_count": 0,
   "metadata": {
    "application/vnd.databricks.v1+cell": {
     "cellMetadata": {
      "byteLimit": 2048000,
      "rowLimit": 10000
     },
     "inputWidgets": {},
     "nuid": "855b6414-883f-4749-b409-5d843f0b2a51",
     "showTitle": false,
     "title": ""
    }
   },
   "outputs": [
    {
     "output_type": "stream",
     "name": "stdout",
     "output_type": "stream",
     "text": [
      "row count:  3520139\n"
     ]
    }
   ],
   "source": [
    "print(\"row count: \", df_result.count())"
   ]
  }
 ],
 "metadata": {
  "application/vnd.databricks.v1+notebook": {
   "dashboards": [],
   "environmentMetadata": {
    "base_environment": "",
    "client": "1"
   },
   "language": "python",
   "notebookMetadata": {
    "pythonIndentUnit": 4
   },
   "notebookName": "5-Low Ratio_DL_Feb 2023",
   "widgets": {}
  },
  "kernelspec": {
   "display_name": "Python 3.5.4",
   "language": "python",
   "name": "python3"
  },
  "language_info": {
   "codemirror_mode": {
    "name": "ipython",
    "version": 3
   },
   "file_extension": ".py",
   "mimetype": "text/x-python",
   "name": "python",
   "nbconvert_exporter": "python",
   "pygments_lexer": "ipython3",
   "version": "3.5.4"
  }
 },
 "nbformat": 4,
 "nbformat_minor": 0
}
