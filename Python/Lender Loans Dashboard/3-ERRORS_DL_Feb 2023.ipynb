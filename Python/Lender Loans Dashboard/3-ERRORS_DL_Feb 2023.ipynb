{
 "cells": [
  {
   "cell_type": "code",
   "execution_count": 0,
   "metadata": {
    "application/vnd.databricks.v1+cell": {
     "cellMetadata": {
      "byteLimit": 2048000,
      "rowLimit": 10000
     },
     "inputWidgets": {},
     "nuid": "84bc4ab9-f65a-479f-9028-8961fa28268a",
     "showTitle": false,
     "title": ""
    }
   },
   "outputs": [
    {
     "output_type": "stream",
     "name": "stdout",
     "output_type": "stream",
     "text": [
      "\u001B[43mNote: you may need to restart the kernel using dbutils.library.restartPython() to use updated packages.\u001B[0m\nRequirement already satisfied: openpyxl in /local_disk0/.ephemeral_nfs/cluster_libraries/python/lib/python3.10/site-packages (3.1.4)\nRequirement already satisfied: et-xmlfile in /local_disk0/.ephemeral_nfs/cluster_libraries/python/lib/python3.10/site-packages (from openpyxl) (1.1.0)\n\u001B[43mNote: you may need to restart the kernel using dbutils.library.restartPython() to use updated packages.\u001B[0m\n"
     ]
    }
   ],
   "source": [
    "# needed to import excel files\n",
    "%pip install -i https://pypi.org/simple openpyxl"
   ]
  },
  {
   "cell_type": "code",
   "execution_count": 0,
   "metadata": {
    "application/vnd.databricks.v1+cell": {
     "cellMetadata": {
      "byteLimit": 2048000,
      "rowLimit": 10000
     },
     "inputWidgets": {},
     "nuid": "501a49ff-4ed4-4817-b3b4-c138a8ec8db0",
     "showTitle": false,
     "title": ""
    }
   },
   "outputs": [],
   "source": [
    "from datetime import datetime, timedelta \n",
    "from getpass import getuser as get_user \n",
    "from getpass import getpass as get_password \n",
    "from os import environ as enviroment_vars \n",
    "from os import setpgrp as set_process_group \n",
    "from random import random \n",
    "from shlex import split as cmd_split \n",
    "from string import punctuation \n",
    "from subprocess import Popen, PIPE, STDOUT \n",
    "import pandas as pd "
   ]
  },
  {
   "cell_type": "code",
   "execution_count": 0,
   "metadata": {
    "application/vnd.databricks.v1+cell": {
     "cellMetadata": {
      "byteLimit": 2048000,
      "rowLimit": 10000
     },
     "inputWidgets": {},
     "nuid": "6e4a72c0-fd43-420a-859f-fc5a0b0e5cee",
     "showTitle": false,
     "title": ""
    }
   },
   "outputs": [
    {
     "output_type": "execute_result",
     "data": {
      "text/html": [
       "\n",
       "            <div>\n",
       "                <p><b>SparkSession - hive</b></p>\n",
       "                \n",
       "        <div>\n",
       "            <p><b>SparkContext</b></p>\n",
       "\n",
       "            <p><a href=\"http://10.245.8.142:40001\">Spark UI</a></p>\n",
       "\n",
       "            <dl>\n",
       "              <dt>Version</dt>\n",
       "                <dd><code>v3.4.1</code></dd>\n",
       "              <dt>Master</dt>\n",
       "                <dd><code>spark://10.245.8.142:7077</code></dd>\n",
       "              <dt>AppName</dt>\n",
       "                <dd><code>Databricks Shell</code></dd>\n",
       "            </dl>\n",
       "        </div>\n",
       "        \n",
       "            </div>\n",
       "        "
      ],
      "text/plain": [
       "<pyspark.sql.session.SparkSession at 0x7f53dc092bc0>"
      ]
     },
     "execution_count": 3,
     "metadata": {},
     "output_type": "execute_result"
    }
   ],
   "source": [
    "from pyspark import SparkContext, HiveContext, SparkConf  \n",
    "from pyspark.sql import SparkSession \n",
    "\n",
    "ss = SparkSession(sc) \n",
    "ss "
   ]
  },
  {
   "cell_type": "code",
   "execution_count": 0,
   "metadata": {
    "application/vnd.databricks.v1+cell": {
     "cellMetadata": {
      "byteLimit": 2048000,
      "rowLimit": 10000
     },
     "inputWidgets": {},
     "nuid": "25e36ec9-3d5f-4fab-800c-4993046e6ca7",
     "showTitle": false,
     "title": ""
    }
   },
   "outputs": [
    {
     "output_type": "stream",
     "name": "stderr",
     "output_type": "stream",
     "text": [
      "/databricks/spark/python/pyspark/sql/dataframe.py:334: FutureWarning: Deprecated in 2.0, use createOrReplaceTempView instead.\n  warnings.warn(\"Deprecated in 2.0, use createOrReplaceTempView instead.\", FutureWarning)\n"
     ]
    },
    {
     "output_type": "stream",
     "name": "stdout",
     "output_type": "stream",
     "text": [
      "Errors First Transmission table row count:  1769763\nTable creation for ERROR AT First Transmission completed at:  2024-09-06 15:49:22.287613\n"
     ]
    }
   ],
   "source": [
    "#Calculate CYTD, PYTD Error Transmission based on application message code 003 in FIRST TRANSMISSION\n",
    "#Data source: Data Lake\n",
    "#Application Message Dim table is not in Data Lake; Read from the copy in the same folder\n",
    "from datetime import datetime\n",
    "\n",
    "vwdw_application_message_dim = pd.read_excel('vwdw_application_message_dim.xlsx').astype(str)\n",
    "df1 = ss.createDataFrame(vwdw_application_message_dim)\n",
    "df1.registerTempTable(\"vwdw_application_message_dim\")\n",
    "\n",
    "sql = \"\"\"\n",
    "select distinct\n",
    "AMT.CMHC_LOAN_ACCOUNT_NBR,\n",
    "SIT.LENDER_EN, \n",
    "SIT.LENDER_CDE,\n",
    "SIT.PARENT_LENDER_EN, \n",
    "SIT.PARENT_LENDER_CODE,\n",
    "amd.application_message_desc_en,\n",
    "amd.application_message_desc_fr,\n",
    "1 as error_cnt,\n",
    "case \n",
    "when row_number() over (partition by AMT.CMHC_LOAN_ACCOUNT_NBR order by AMT.CMHC_LOAN_ACCOUNT_NBR) = 1\n",
    "then 1 else 0\n",
    "end as unique_err_loan\n",
    "\n",
    "from cmwdw_insurance.tbdw_tgt_application_message_transaction_fact AMT\n",
    "\n",
    "inner join vwdw_application_message_dim amd \n",
    "on (amt.application_message_surrkey = INT(amd.application_message_surrkey)) and amd.application_message_tcd=\"3\"\n",
    "\n",
    "LEFT join cmwdw_insurance.vwdw_loan_transmission_dim ltd \n",
    "on (amt.loan_transmission_Surrkey = ltd.loan_transmission_surrkey and ltd.transmission_first_ind=1) \n",
    "\n",
    "LEFT join sb_rmo_ho_reporting.lender_dashboard_tat_desj SIT \n",
    "on (ltd.cmhc_loan_account_nbr = sit.cmhc_loan_account_nbr)\n",
    "\n",
    "/**where sit.REC_YEAR in (\"CYTD\", \"PYTD\")**/\n",
    "where amt.application_identifier_ts>='2020-01-01 00:00:12.591090'\n",
    "group by AMT.CMHC_LOAN_ACCOUNT_NBR,\n",
    "SIT.LENDER_GROUP,\n",
    "SIT.LENDER_EN, \n",
    "SIT.LENDER_CDE,\n",
    "SIT.PARENT_LENDER_EN, \n",
    "SIT.PARENT_LENDER_CODE,\n",
    "amd.application_message_desc_en,\n",
    "amd.application_message_desc_fr\n",
    "order by AMT.CMHC_LOAN_ACCOUNT_NBR\n",
    "\"\"\"\n",
    "err_df = ss.sql(sql)\n",
    "err_df.write.mode(\"overwrite\").format(\"orc\").saveAsTable(\"sb_rmo_ho_reporting.lender_dashboard_error\")\n",
    "print(\"Errors First Transmission table row count: \", err_df.count())\n",
    "print(\"Table creation for ERROR AT First Transmission completed at: \", str(datetime.now()))"
   ]
  }
 ],
 "metadata": {
  "application/vnd.databricks.v1+notebook": {
   "dashboards": [],
   "environmentMetadata": {
    "base_environment": "",
    "client": "1"
   },
   "language": "python",
   "notebookMetadata": {
    "pythonIndentUnit": 4
   },
   "notebookName": "3-ERRORS_DL_Feb 2023",
   "widgets": {}
  },
  "kernelspec": {
   "display_name": "Python 3.5.4",
   "language": "python",
   "name": "python3"
  },
  "language_info": {
   "codemirror_mode": {
    "name": "ipython",
    "version": 3
   },
   "file_extension": ".py",
   "mimetype": "text/x-python",
   "name": "python",
   "nbconvert_exporter": "python",
   "pygments_lexer": "ipython3",
   "version": "3.5.4"
  }
 },
 "nbformat": 4,
 "nbformat_minor": 0
}
