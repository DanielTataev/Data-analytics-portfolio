{
 "cells": [
  {
   "cell_type": "code",
   "execution_count": 0,
   "metadata": {
    "application/vnd.databricks.v1+cell": {
     "cellMetadata": {
      "byteLimit": 2048000,
      "rowLimit": 10000
     },
     "inputWidgets": {},
     "nuid": "373465c3-b3eb-4c28-98de-79bed6472f77",
     "showTitle": false,
     "title": ""
    }
   },
   "outputs": [],
   "source": [
    "from datetime import datetime, timedelta \n",
    "from getpass import getuser as get_user \n",
    "from getpass import getpass as get_password \n",
    "from os import environ as enviroment_vars \n",
    "from os import setpgrp as set_process_group \n",
    "from random import random \n",
    "from shlex import split as cmd_split \n",
    "from string import punctuation \n",
    "from subprocess import Popen, PIPE, STDOUT \n"
   ]
  },
  {
   "cell_type": "code",
   "execution_count": 0,
   "metadata": {
    "application/vnd.databricks.v1+cell": {
     "cellMetadata": {
      "byteLimit": 2048000,
      "rowLimit": 10000
     },
     "inputWidgets": {},
     "nuid": "842d41d3-405d-4bec-9a55-a1e319913bc4",
     "showTitle": false,
     "title": ""
    }
   },
   "outputs": [
    {
     "output_type": "execute_result",
     "data": {
      "text/html": [
       "\n",
       "            <div>\n",
       "                <p><b>SparkSession - hive</b></p>\n",
       "                \n",
       "        <div>\n",
       "            <p><b>SparkContext</b></p>\n",
       "\n",
       "            <p><a href=\"http://10.245.8.142:40001\">Spark UI</a></p>\n",
       "\n",
       "            <dl>\n",
       "              <dt>Version</dt>\n",
       "                <dd><code>v3.4.1</code></dd>\n",
       "              <dt>Master</dt>\n",
       "                <dd><code>spark://10.245.8.142:7077</code></dd>\n",
       "              <dt>AppName</dt>\n",
       "                <dd><code>Databricks Shell</code></dd>\n",
       "            </dl>\n",
       "        </div>\n",
       "        \n",
       "            </div>\n",
       "        "
      ],
      "text/plain": [
       "<pyspark.sql.session.SparkSession at 0x7f7d8c55af20>"
      ]
     },
     "execution_count": 2,
     "metadata": {},
     "output_type": "execute_result"
    }
   ],
   "source": [
    "from pyspark import SparkContext, HiveContext, SparkConf  \n",
    "from pyspark.sql import SparkSession \n",
    "\n",
    "ss = SparkSession(sc) \n",
    "ss "
   ]
  },
  {
   "cell_type": "code",
   "execution_count": 0,
   "metadata": {
    "application/vnd.databricks.v1+cell": {
     "cellMetadata": {
      "byteLimit": 2048000,
      "rowLimit": 10000
     },
     "inputWidgets": {},
     "nuid": "bbe7e660-cab9-4c74-916b-9112ad149ab1",
     "showTitle": false,
     "title": ""
    }
   },
   "outputs": [],
   "source": [
    "#Calculate Parent Lender and Source using DL data\n",
    "sql = \"\"\"\n",
    "select distinct \n",
    "t1.*,\n",
    "t1.parent_level1_lender_cde as PARENT_LENDER_CODE,\n",
    "\n",
    "case \n",
    "when t1.parent_level1_lender_cde in ('40796') then 'Central 1 - BC'\n",
    "when t1.parent_level1_lender_cde in ('40799') then 'Central 1 - ON'\n",
    "else t1.parent_level1_lender_nm_en\n",
    "end as PARENT_LENDER_EN,\n",
    "\n",
    "t1.parent_level2_lender_nm_en as child_lender,\n",
    "\n",
    "CASE \n",
    "WHEN t1.parent_level1_lender_cde IN \n",
    "('40886','40001','40942', '41113', '40798', '40797', '40799', '41023', '40018', '40796', '41879', '41067', '41510', '40011', '41247') \n",
    "then 'CREDIT UNIONS'\n",
    "when t1.parent_level1_lender_cde in ('41042') and t1.lender_cde in ('41042') then 'CREDIT UNIONS'\n",
    "WHEN t1.parent_level1_lender_cde in ('49020') THEN 'DESJARDINS'\n",
    "WHEN t1.parent_level1_lender_cde in ('20024', '60001', '60002', '60003', '60004', '60014') then 'KAM_Lenders'\n",
    "when t1.parent_level1_lender_cde in \n",
    "('90032', '30092', '90045', '90040', '90024','90025', '20042', '30006', '30106', '90049', '90044', '30105', '30092') \n",
    "then 'MFCs' else 'Other Lenders'\n",
    "end as Lender_Group,\n",
    "\n",
    "case \n",
    "when t1.parent_level1_lender_cde IN (\"40798\", \"40797\", \"40018\", \"40001\", \"40886\") \n",
    "THEN \"PRARIES\"\n",
    "WHEN t1.parent_level1_lender_cde IN (\"41023\", \"41067\", \"41113\", \"40942\") \n",
    "THEN \"ATLANTIC\"\n",
    "WHEN t1.parent_level1_lender_cde IN (\"40796\", \"40011\") \n",
    "THEN \"BRITISH COLUMBIA\"\n",
    "WHEN t1.parent_level1_lender_cde IN (\"40799\", \"41879\", \"41510\", \"41247\")  \n",
    "THEN \"ONTARIO\"\n",
    "WHEN t1.parent_level1_lender_cde=\"41042\" AND t1.Lender_cde=\"41042\" \n",
    "THEN \"ONTARIO\"\n",
    "END AS CU_REGION,\n",
    "\n",
    "case when t1.parent_level1_lender_cde=\"60002\" then \n",
    "    (Case\n",
    "    when lenderchannel=\"MOSE\" and hfs_role is NULL THEN \"BROKER\" \n",
    "    when lenderchannel IN (\"BRANCH\", \"HFLM\", \"BRM\") THEN \"\"\n",
    "    ELSE \"HFA\"\n",
    "    end) \n",
    "end as MOSE_CHANNEL,\n",
    "\n",
    "CASE WHEN t1.parent_level1_lender_cde=\"60002\" AND lenderchannel=\"BRM\" THEN RU_VP\n",
    "END AS BRM_RVP,\n",
    "CASE WHEN t1.parent_level1_lender_cde=\"60002\" AND lenderchannel=\"HFLM\" THEN RU_VP \n",
    "END AS HFLM_RD,\n",
    "CASE WHEN t1.parent_level1_lender_cde=\"60002\" AND (lenderchannel=\"HFLM\" OR HFS_ROLE=\"HFA\") THEN HFS_SUPERVISOR \n",
    "END AS SALES_MANAGER,\n",
    "CASE WHEN t1.parent_level1_lender_cde=\"60002\" AND (lenderchannel=\"HFLM\" OR HFS_ROLE=\"HFA\") THEN HFS_VP \n",
    "END AS HFS_RD,\n",
    "\n",
    "CASE \n",
    "    WHEN t1.parent_level1_lender_cde=\"60002\" THEN BUSINESS_SOURCE_EN /*BNS*/\n",
    "    WHEN t1.parent_level1_lender_cde=\"60001\" THEN\n",
    "        (CASE\n",
    "        WHEN transit_desj IN (\"00135532\", \"00103553\") THEN \"MORTGAGE SPECIALIST\"\n",
    "        ELSE \"BRANCH\"  END)\n",
    "        \n",
    "    WHEN t1.parent_level1_lender_cde=\"20024\" THEN\n",
    "        (CASE\n",
    "        WHEN BUSINESS_SOURCE_EN=\"MORTGAGE SPECIALIST\" THEN \"MORTGAGE SPECIALIST\" ELSE \"BRANCH\" END) \n",
    "    WHEN t1.parent_level1_lender_cde=\"60003\" THEN\n",
    "        (CASE\n",
    "        WHEN BUSINESS_SOURCE_EN=\"MORTGAGE SPECIALIST\" THEN \"MORTGAGE SPECIALIST\" ELSE \"BRANCH\" END)\n",
    "    WHEN t1.parent_level1_lender_cde=\"60004\" THEN\n",
    "        (CASE \n",
    "        when transit_desj in ('00427892','00428072','00428472','00428592','00428662','00428672') then \"MORTGAGE SPECIALIST\"\n",
    "        when transit_desj in (\"00473902\", \"00491912\") then \"BROKER\" else \"BRANCH\" END)\n",
    "    WHEN t1.parent_level1_lender_cde IN (\"90040\", \"90045\", \"90024\", \"90025\", \"20042\", \"30006\",\"30106\", \"90049\", \"90044\", \"30085\", \"90043\", \"90050\") THEN \"BROKER\"\n",
    "    WHEN t1.parent_level1_lender_cde NOT IN (\"60001\", \"60002\", \"60004\", \"49020\", \"90032\") \n",
    "    AND BUSINESS_SOURCE_EN not in (\"BROKER\", \"MORTGAGE SPECIALIST\", \"BRANCH\") \n",
    "    then \"BRANCH\" else business_source_en\n",
    "END AS SOURCE\n",
    "\n",
    "FROM sb_rmo_ho_reporting.test_lender_dashboard t1 \n",
    "left join cmwdw_insurance.vwdw_lender_financial_trnst_dim t2\n",
    "on t1.Lender_cde = t2.lender_cde\n",
    "where t2.parent_level1_lender_nm_en not in ('CMHC', 'Invalid Lender')\n",
    " \"\"\"\n",
    "\n",
    "df_lend = ss.sql(sql)\n",
    "df_lend.createOrReplaceTempView(\"df_lend\")"
   ]
  },
  {
   "cell_type": "code",
   "execution_count": 0,
   "metadata": {
    "application/vnd.databricks.v1+cell": {
     "cellMetadata": {
      "byteLimit": 2048000,
      "rowLimit": 10000
     },
     "inputWidgets": {},
     "nuid": "8c78346c-17f0-444f-b77a-b61aea044118",
     "showTitle": false,
     "title": ""
    }
   },
   "outputs": [
    {
     "output_type": "stream",
     "name": "stdout",
     "output_type": "stream",
     "text": [
      "Distinct count: 57\n"
     ]
    }
   ],
   "source": [
    "distinct_count = df_lend.select(\"parent_level1_lender_nm_en\").distinct().count()\n",
    "print(\"Distinct count:\", distinct_count)"
   ]
  },
  {
   "cell_type": "code",
   "execution_count": 0,
   "metadata": {
    "application/vnd.databricks.v1+cell": {
     "cellMetadata": {
      "byteLimit": 2048000,
      "rowLimit": 10000
     },
     "inputWidgets": {},
     "nuid": "4fba74d9-3125-4bc7-b4fb-645702918f27",
     "showTitle": false,
     "title": ""
    }
   },
   "outputs": [],
   "source": [
    "#Calculate BNS Additional HFS RD and CMHC Source\n",
    "sql_l = \"\"\"\n",
    "select \n",
    "*,\n",
    "CASE WHEN df_lend.parent_level1_lender_cde =\"60002\" AND MOSE_CHANNEL=\"HFA\" THEN HFS_VP \n",
    "ELSE HFS_RD\n",
    "END AS HFS_RD_2,\n",
    "\n",
    "CASE WHEN SOURCE IN (\"COURTIER\",\"BROKER\", \"RMG\", \"MCAP\", \"BRM\") THEN \"BROKER\"\n",
    "WHEN SOURCE = \"MOSE\" AND MOSE_CHANNEL=\"BROKER\" THEN \"BROKER\"\n",
    "WHEN SOURCE = \"MOSE\" AND MOSE_CHANNEL=\"HFA\" THEN \"MORTGAGE SPECIALIST\"\n",
    "WHEN SOURCE IN (\"BRANCH\", \"SUCCURSALE\") THEN \"BRANCH\"\n",
    "ELSE \"MORTGAGE SPECIALIST\" \n",
    "END AS CMHC_SOURCE\n",
    "\n",
    "from df_lend\n",
    " \"\"\"\n",
    "\n",
    "df_lend2 = ss.sql(sql_l)"
   ]
  },
  {
   "cell_type": "code",
   "execution_count": 0,
   "metadata": {
    "application/vnd.databricks.v1+cell": {
     "cellMetadata": {
      "byteLimit": 2048000,
      "rowLimit": 10000
     },
     "inputWidgets": {},
     "nuid": "517e8a3f-dcb5-4c87-a6ea-3f31d496baa9",
     "showTitle": false,
     "title": ""
    }
   },
   "outputs": [
    {
     "output_type": "stream",
     "name": "stdout",
     "output_type": "stream",
     "text": [
      "Final Base Table with Channel, Source, BNS Contact creation completed at:  2024-09-06 14:38:48.648332\n"
     ]
    }
   ],
   "source": [
    "df_lend2.write.mode(\"overwrite\").format(\"orc\").saveAsTable(\"sb_rmo_ho_reporting.test_lender_dashboard2\")\n",
    "#print(\"Final Base Table with Channel, Source, BNS Contact row count: \", df_fiscal2.count())\n",
    "print(\"Final Base Table with Channel, Source, BNS Contact creation completed at: \", str(datetime.now()))\n",
    "\n",
    "#as of 15.02.2023 BMO is there test_lender_dashboard2"
   ]
  },
  {
   "cell_type": "code",
   "execution_count": 0,
   "metadata": {
    "application/vnd.databricks.v1+cell": {
     "cellMetadata": {
      "byteLimit": 2048000,
      "rowLimit": 10000
     },
     "inputWidgets": {},
     "nuid": "afa517ea-253a-4d21-9dc8-c1ed351c438b",
     "showTitle": false,
     "title": ""
    }
   },
   "outputs": [],
   "source": [
    "#print(\"row count: \", df_lend2.count())"
   ]
  }
 ],
 "metadata": {
  "application/vnd.databricks.v1+notebook": {
   "dashboards": [],
   "environmentMetadata": {
    "base_environment": "",
    "client": "1"
   },
   "language": "python",
   "notebookMetadata": {
    "pythonIndentUnit": 4
   },
   "notebookName": "1.B_Main Data_with_Parent Lender_DL_Feb2023",
   "widgets": {}
  },
  "kernelspec": {
   "display_name": "Python 3.5.4",
   "language": "python",
   "name": "python3"
  },
  "language_info": {
   "codemirror_mode": {
    "name": "ipython",
    "version": 3
   },
   "file_extension": ".py",
   "mimetype": "text/x-python",
   "name": "python",
   "nbconvert_exporter": "python",
   "pygments_lexer": "ipython3",
   "version": "3.5.4"
  }
 },
 "nbformat": 4,
 "nbformat_minor": 0
}
